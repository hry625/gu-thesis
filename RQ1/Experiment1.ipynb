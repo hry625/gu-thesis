{
 "cells": [
  {
   "cell_type": "code",
   "execution_count": 7,
   "metadata": {},
   "outputs": [],
   "source": [
    "import pandas as pd\n",
    "import matplotlib.pyplot as plt\n",
    "import numpy as np\n",
    "import morton\n",
    "import math\n",
    "from hilbertcurve.hilbertcurve import HilbertCurve"
   ]
  },
  {
   "cell_type": "code",
   "execution_count": 8,
   "metadata": {},
   "outputs": [
    {
     "data": {
      "text/html": [
       "<div>\n",
       "<style scoped>\n",
       "    .dataframe tbody tr th:only-of-type {\n",
       "        vertical-align: middle;\n",
       "    }\n",
       "\n",
       "    .dataframe tbody tr th {\n",
       "        vertical-align: top;\n",
       "    }\n",
       "\n",
       "    .dataframe thead th {\n",
       "        text-align: right;\n",
       "    }\n",
       "</style>\n",
       "<table border=\"1\" class=\"dataframe\">\n",
       "  <thead>\n",
       "    <tr style=\"text-align: right;\">\n",
       "      <th></th>\n",
       "      <th>A</th>\n",
       "      <th>B</th>\n",
       "    </tr>\n",
       "  </thead>\n",
       "  <tbody>\n",
       "    <tr>\n",
       "      <th>count</th>\n",
       "      <td>100.000000</td>\n",
       "      <td>100.000000</td>\n",
       "    </tr>\n",
       "    <tr>\n",
       "      <th>mean</th>\n",
       "      <td>33.330000</td>\n",
       "      <td>35.380000</td>\n",
       "    </tr>\n",
       "    <tr>\n",
       "      <th>std</th>\n",
       "      <td>18.070599</td>\n",
       "      <td>18.810474</td>\n",
       "    </tr>\n",
       "    <tr>\n",
       "      <th>min</th>\n",
       "      <td>1.000000</td>\n",
       "      <td>1.000000</td>\n",
       "    </tr>\n",
       "    <tr>\n",
       "      <th>25%</th>\n",
       "      <td>17.750000</td>\n",
       "      <td>20.000000</td>\n",
       "    </tr>\n",
       "    <tr>\n",
       "      <th>50%</th>\n",
       "      <td>33.000000</td>\n",
       "      <td>40.000000</td>\n",
       "    </tr>\n",
       "    <tr>\n",
       "      <th>75%</th>\n",
       "      <td>48.250000</td>\n",
       "      <td>51.250000</td>\n",
       "    </tr>\n",
       "    <tr>\n",
       "      <th>max</th>\n",
       "      <td>64.000000</td>\n",
       "      <td>64.000000</td>\n",
       "    </tr>\n",
       "  </tbody>\n",
       "</table>\n",
       "</div>"
      ],
      "text/plain": [
       "                A           B\n",
       "count  100.000000  100.000000\n",
       "mean    33.330000   35.380000\n",
       "std     18.070599   18.810474\n",
       "min      1.000000    1.000000\n",
       "25%     17.750000   20.000000\n",
       "50%     33.000000   40.000000\n",
       "75%     48.250000   51.250000\n",
       "max     64.000000   64.000000"
      ]
     },
     "execution_count": 8,
     "metadata": {},
     "output_type": "execute_result"
    }
   ],
   "source": [
    "# Create 2D data\n",
    "df = pd.DataFrame(np.random.randint(0,65,size=(100, 2)), columns=list('AB'))\n",
    "df.describe()"
   ]
  },
  {
   "cell_type": "code",
   "execution_count": 9,
   "metadata": {},
   "outputs": [],
   "source": [
    "# Morton algorithm\n",
    "m = morton.Morton(dimensions=2, bits=64)\n",
    "def set_value(data,key1,key2):    \n",
    "    return m.pack(int(data[key1]), int(data[key2]))\n"
   ]
  },
  {
   "cell_type": "code",
   "execution_count": 10,
   "metadata": {},
   "outputs": [],
   "source": [
    "hilbert_curve = HilbertCurve(64, 2, n_procs=-1)\n",
    "def set_value_Hcurve(data,key1,key2,key3):\n",
    "    points = data[[key1,key2]].to_numpy()\n",
    "    distances = hilbert_curve.distances_from_points(points)\n",
    "    data[key3] = pd.DataFrame(distances )\n",
    "    return data"
   ]
  },
  {
   "attachments": {},
   "cell_type": "markdown",
   "metadata": {},
   "source": [
    "# Offset Experiment\n",
    "H0: There is no offset value that could move the CSP consistently \n",
    "HA: There is one offset value that could move the CSP consistently"
   ]
  },
  {
   "cell_type": "code",
   "execution_count": 11,
   "metadata": {},
   "outputs": [],
   "source": [
    "def get_std_with_different_offset(data,key1,key2,algorithm,offset):\n",
    "    key1_offset=key1+\"_offset_\"+str(offset)\n",
    "    key2_offset=key2+\"_offset_\"+str(offset)\n",
    "    data[key1_offset]=data[key1].add(offset)\n",
    "    data[key2_offset]=data[key2].add(offset)\n",
    "    if algorithm=='morton':\n",
    "        data['morton_origin']=data.apply(set_value,args=(key1,key2),axis=1)\n",
    "        data['morton_offset']=data.apply(set_value,args=(key1_offset,key2_offset),axis=1)\n",
    "        data['offset_delta']=data['morton_offset']-data['morton_origin']\n",
    "        return data['offset_delta'].std()\n",
    "    elif algorithm=='hilbert':\n",
    "        data=set_value_Hcurve(data,key1,key2,'hilbert_origin')\n",
    "        data=set_value_Hcurve(data,key1_offset,key2_offset,'hilbert_offset')\n",
    "        data['offset_delta']=data['hilbert_offset']-data['hilbert_origin']\n",
    "        return data['offset_delta'].std()\n",
    "    else:\n",
    "        print(\"Please use either morton or hibert as algorithm parameter\")"
   ]
  },
  {
   "attachments": {},
   "cell_type": "markdown",
   "metadata": {},
   "source": [
    "## Morton offset"
   ]
  },
  {
   "cell_type": "code",
   "execution_count": 29,
   "metadata": {},
   "outputs": [
    {
     "name": "stdout",
     "output_type": "stream",
     "text": [
      "Found the offset that reject null hypothesis: 128\n"
     ]
    },
    {
     "data": {
      "text/html": [
       "<div>\n",
       "<style scoped>\n",
       "    .dataframe tbody tr th:only-of-type {\n",
       "        vertical-align: middle;\n",
       "    }\n",
       "\n",
       "    .dataframe tbody tr th {\n",
       "        vertical-align: top;\n",
       "    }\n",
       "\n",
       "    .dataframe thead th {\n",
       "        text-align: right;\n",
       "    }\n",
       "</style>\n",
       "<table border=\"1\" class=\"dataframe\">\n",
       "  <thead>\n",
       "    <tr style=\"text-align: right;\">\n",
       "      <th></th>\n",
       "      <th>offset</th>\n",
       "      <th>std</th>\n",
       "    </tr>\n",
       "  </thead>\n",
       "  <tbody>\n",
       "    <tr>\n",
       "      <th>0</th>\n",
       "      <td>2</td>\n",
       "      <td>1076.310898</td>\n",
       "    </tr>\n",
       "    <tr>\n",
       "      <th>1</th>\n",
       "      <td>3</td>\n",
       "      <td>1489.954738</td>\n",
       "    </tr>\n",
       "    <tr>\n",
       "      <th>2</th>\n",
       "      <td>4</td>\n",
       "      <td>1714.275493</td>\n",
       "    </tr>\n",
       "    <tr>\n",
       "      <th>3</th>\n",
       "      <td>5</td>\n",
       "      <td>1839.907088</td>\n",
       "    </tr>\n",
       "    <tr>\n",
       "      <th>4</th>\n",
       "      <td>6</td>\n",
       "      <td>1937.337546</td>\n",
       "    </tr>\n",
       "    <tr>\n",
       "      <th>...</th>\n",
       "      <td>...</td>\n",
       "      <td>...</td>\n",
       "    </tr>\n",
       "    <tr>\n",
       "      <th>122</th>\n",
       "      <td>124</td>\n",
       "      <td>5071.185675</td>\n",
       "    </tr>\n",
       "    <tr>\n",
       "      <th>123</th>\n",
       "      <td>125</td>\n",
       "      <td>4019.215086</td>\n",
       "    </tr>\n",
       "    <tr>\n",
       "      <th>124</th>\n",
       "      <td>126</td>\n",
       "      <td>2700.702770</td>\n",
       "    </tr>\n",
       "    <tr>\n",
       "      <th>125</th>\n",
       "      <td>127</td>\n",
       "      <td>649.905669</td>\n",
       "    </tr>\n",
       "    <tr>\n",
       "      <th>126</th>\n",
       "      <td>128</td>\n",
       "      <td>0.000000</td>\n",
       "    </tr>\n",
       "  </tbody>\n",
       "</table>\n",
       "<p>127 rows × 2 columns</p>\n",
       "</div>"
      ],
      "text/plain": [
       "     offset          std\n",
       "0         2  1076.310898\n",
       "1         3  1489.954738\n",
       "2         4  1714.275493\n",
       "3         5  1839.907088\n",
       "4         6  1937.337546\n",
       "..      ...          ...\n",
       "122     124  5071.185675\n",
       "123     125  4019.215086\n",
       "124     126  2700.702770\n",
       "125     127   649.905669\n",
       "126     128     0.000000\n",
       "\n",
       "[127 rows x 2 columns]"
      ]
     },
     "execution_count": 29,
     "metadata": {},
     "output_type": "execute_result"
    }
   ],
   "source": [
    "result_data=[]\n",
    "for i in range(2,200):\n",
    "    std = get_std_with_different_offset(df,'A','B','morton',i)\n",
    "    # print('offset: '+str(i)+', std is: '+str(std) )\n",
    "    result_data.append([i,std])\n",
    "    if std==0:\n",
    "        print('Found the offset that reject null hypothesis: '+str(i))\n",
    "        break\n",
    "result_df=pd.DataFrame(result_data,columns=['offset','std'])\n",
    "result_df"
   ]
  },
  {
   "attachments": {},
   "cell_type": "markdown",
   "metadata": {},
   "source": [
    "## Hilbert offset"
   ]
  },
  {
   "cell_type": "code",
   "execution_count": 30,
   "metadata": {},
   "outputs": [
    {
     "name": "stdout",
     "output_type": "stream",
     "text": [
      "Found the offset that reject null hypothesis: 384\n"
     ]
    },
    {
     "data": {
      "text/html": [
       "<div>\n",
       "<style scoped>\n",
       "    .dataframe tbody tr th:only-of-type {\n",
       "        vertical-align: middle;\n",
       "    }\n",
       "\n",
       "    .dataframe tbody tr th {\n",
       "        vertical-align: top;\n",
       "    }\n",
       "\n",
       "    .dataframe thead th {\n",
       "        text-align: right;\n",
       "    }\n",
       "</style>\n",
       "<table border=\"1\" class=\"dataframe\">\n",
       "  <thead>\n",
       "    <tr style=\"text-align: right;\">\n",
       "      <th></th>\n",
       "      <th>offset</th>\n",
       "      <th>std</th>\n",
       "    </tr>\n",
       "  </thead>\n",
       "  <tbody>\n",
       "    <tr>\n",
       "      <th>0</th>\n",
       "      <td>2</td>\n",
       "      <td>2418.888366</td>\n",
       "    </tr>\n",
       "    <tr>\n",
       "      <th>1</th>\n",
       "      <td>3</td>\n",
       "      <td>3425.919036</td>\n",
       "    </tr>\n",
       "    <tr>\n",
       "      <th>2</th>\n",
       "      <td>4</td>\n",
       "      <td>3676.331836</td>\n",
       "    </tr>\n",
       "    <tr>\n",
       "      <th>3</th>\n",
       "      <td>5</td>\n",
       "      <td>4004.119777</td>\n",
       "    </tr>\n",
       "    <tr>\n",
       "      <th>4</th>\n",
       "      <td>6</td>\n",
       "      <td>4250.963797</td>\n",
       "    </tr>\n",
       "    <tr>\n",
       "      <th>...</th>\n",
       "      <td>...</td>\n",
       "      <td>...</td>\n",
       "    </tr>\n",
       "    <tr>\n",
       "      <th>378</th>\n",
       "      <td>380</td>\n",
       "      <td>4098.814884</td>\n",
       "    </tr>\n",
       "    <tr>\n",
       "      <th>379</th>\n",
       "      <td>381</td>\n",
       "      <td>3488.276941</td>\n",
       "    </tr>\n",
       "    <tr>\n",
       "      <th>380</th>\n",
       "      <td>382</td>\n",
       "      <td>3292.330310</td>\n",
       "    </tr>\n",
       "    <tr>\n",
       "      <th>381</th>\n",
       "      <td>383</td>\n",
       "      <td>1138.667201</td>\n",
       "    </tr>\n",
       "    <tr>\n",
       "      <th>382</th>\n",
       "      <td>384</td>\n",
       "      <td>0.000000</td>\n",
       "    </tr>\n",
       "  </tbody>\n",
       "</table>\n",
       "<p>383 rows × 2 columns</p>\n",
       "</div>"
      ],
      "text/plain": [
       "     offset          std\n",
       "0         2  2418.888366\n",
       "1         3  3425.919036\n",
       "2         4  3676.331836\n",
       "3         5  4004.119777\n",
       "4         6  4250.963797\n",
       "..      ...          ...\n",
       "378     380  4098.814884\n",
       "379     381  3488.276941\n",
       "380     382  3292.330310\n",
       "381     383  1138.667201\n",
       "382     384     0.000000\n",
       "\n",
       "[383 rows x 2 columns]"
      ]
     },
     "execution_count": 30,
     "metadata": {},
     "output_type": "execute_result"
    }
   ],
   "source": [
    "result_data=[]\n",
    "for i in range(2,500):\n",
    "    std = get_std_with_different_offset(df,'A','B','hilbert',i)\n",
    "    result_data.append([i,std])\n",
    "    if std==0:\n",
    "        print('Found the offset that reject null hypothesis: '+str(i))\n",
    "        break\n",
    "result_df=pd.DataFrame(result_data,columns=['offset','std'])\n",
    "result_df"
   ]
  },
  {
   "attachments": {},
   "cell_type": "markdown",
   "metadata": {},
   "source": [
    "# Find the pattern\n",
    "with different max value of the dataset, find the respective offset for both hilbert and morton curve."
   ]
  },
  {
   "cell_type": "code",
   "execution_count": null,
   "metadata": {},
   "outputs": [],
   "source": [
    "def find_offset_and_max_value_relation(data_max_value,search_max_value):\n",
    "    test_df = pd.DataFrame(np.random.randint(0,data_max_value,size=(25, 2)), columns=list('AB'))\n",
    "    max_value=test_df.max()\n",
    "    relation_result=[]\n",
    "    for i in range(2,search_max_value):\n",
    "        std_m = get_std_with_different_offset(test_df,'A','B','morton',i)\n",
    "        if std_m==0:\n",
    "            relation_result.append([data_max_value,max_value,i,'morton'])\n",
    "        std_h = get_std_with_different_offset(test_df,'A','B','hilbert',i)\n",
    "        if std_h==0:\n",
    "            relation_result.append([data_max_value,max_value,i,'hilbert'])\n",
    "    return pd.DataFrame(relation_result,columns=['input_max_value','df_max_value','offset','alogrithm'])\n"
   ]
  },
  {
   "attachments": {},
   "cell_type": "markdown",
   "metadata": {},
   "source": [
    "# Multiplier Experiment"
   ]
  },
  {
   "cell_type": "code",
   "execution_count": null,
   "metadata": {},
   "outputs": [],
   "source": []
  }
 ],
 "metadata": {
  "kernelspec": {
   "display_name": "Python 3 (ipykernel)",
   "language": "python",
   "name": "python3"
  },
  "language_info": {
   "codemirror_mode": {
    "name": "ipython",
    "version": 3
   },
   "file_extension": ".py",
   "mimetype": "text/x-python",
   "name": "python",
   "nbconvert_exporter": "python",
   "pygments_lexer": "ipython3",
   "version": "3.9.16"
  },
  "orig_nbformat": 4
 },
 "nbformat": 4,
 "nbformat_minor": 2
}
