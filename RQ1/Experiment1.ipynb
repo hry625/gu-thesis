{
 "cells": [
  {
   "cell_type": "code",
   "execution_count": 7,
   "metadata": {},
   "outputs": [],
   "source": [
    "import pandas as pd\n",
    "import matplotlib.pyplot as plt\n",
    "import numpy as np\n",
    "import morton\n",
    "import math\n",
    "from hilbertcurve.hilbertcurve import HilbertCurve"
   ]
  },
  {
   "cell_type": "code",
   "execution_count": 8,
   "metadata": {},
   "outputs": [
    {
     "data": {
      "text/html": [
       "<div>\n",
       "<style scoped>\n",
       "    .dataframe tbody tr th:only-of-type {\n",
       "        vertical-align: middle;\n",
       "    }\n",
       "\n",
       "    .dataframe tbody tr th {\n",
       "        vertical-align: top;\n",
       "    }\n",
       "\n",
       "    .dataframe thead th {\n",
       "        text-align: right;\n",
       "    }\n",
       "</style>\n",
       "<table border=\"1\" class=\"dataframe\">\n",
       "  <thead>\n",
       "    <tr style=\"text-align: right;\">\n",
       "      <th></th>\n",
       "      <th>A</th>\n",
       "      <th>B</th>\n",
       "    </tr>\n",
       "  </thead>\n",
       "  <tbody>\n",
       "    <tr>\n",
       "      <th>count</th>\n",
       "      <td>100.000000</td>\n",
       "      <td>100.000000</td>\n",
       "    </tr>\n",
       "    <tr>\n",
       "      <th>mean</th>\n",
       "      <td>33.330000</td>\n",
       "      <td>35.380000</td>\n",
       "    </tr>\n",
       "    <tr>\n",
       "      <th>std</th>\n",
       "      <td>18.070599</td>\n",
       "      <td>18.810474</td>\n",
       "    </tr>\n",
       "    <tr>\n",
       "      <th>min</th>\n",
       "      <td>1.000000</td>\n",
       "      <td>1.000000</td>\n",
       "    </tr>\n",
       "    <tr>\n",
       "      <th>25%</th>\n",
       "      <td>17.750000</td>\n",
       "      <td>20.000000</td>\n",
       "    </tr>\n",
       "    <tr>\n",
       "      <th>50%</th>\n",
       "      <td>33.000000</td>\n",
       "      <td>40.000000</td>\n",
       "    </tr>\n",
       "    <tr>\n",
       "      <th>75%</th>\n",
       "      <td>48.250000</td>\n",
       "      <td>51.250000</td>\n",
       "    </tr>\n",
       "    <tr>\n",
       "      <th>max</th>\n",
       "      <td>64.000000</td>\n",
       "      <td>64.000000</td>\n",
       "    </tr>\n",
       "  </tbody>\n",
       "</table>\n",
       "</div>"
      ],
      "text/plain": [
       "                A           B\n",
       "count  100.000000  100.000000\n",
       "mean    33.330000   35.380000\n",
       "std     18.070599   18.810474\n",
       "min      1.000000    1.000000\n",
       "25%     17.750000   20.000000\n",
       "50%     33.000000   40.000000\n",
       "75%     48.250000   51.250000\n",
       "max     64.000000   64.000000"
      ]
     },
     "execution_count": 8,
     "metadata": {},
     "output_type": "execute_result"
    }
   ],
   "source": [
    "# Create 2D data\n",
    "df = pd.DataFrame(np.random.randint(0,65,size=(100, 2)), columns=list('AB'))\n",
    "df.describe()"
   ]
  },
  {
   "cell_type": "code",
   "execution_count": 9,
   "metadata": {},
   "outputs": [],
   "source": [
    "# Morton algorithm\n",
    "m = morton.Morton(dimensions=2, bits=64)\n",
    "def set_value(data,key1,key2):    \n",
    "    return m.pack(int(data[key1]), int(data[key2]))\n"
   ]
  },
  {
   "cell_type": "code",
   "execution_count": 10,
   "metadata": {},
   "outputs": [],
   "source": [
    "hilbert_curve = HilbertCurve(64, 2, n_procs=-1)\n",
    "def set_value_Hcurve(data,key1,key2,key3):\n",
    "    points = data[[key1,key2]].to_numpy()\n",
    "    distances = hilbert_curve.distances_from_points(points)\n",
    "    data[key3] = pd.DataFrame(distances )\n",
    "    return data"
   ]
  },
  {
   "attachments": {},
   "cell_type": "markdown",
   "metadata": {},
   "source": [
    "# Offset Experiment\n",
    "H0: There is no offset value that could move the CSP consistently \n",
    "HA: There is one offset value that could move the CSP consistently"
   ]
  },
  {
   "cell_type": "code",
   "execution_count": 11,
   "metadata": {},
   "outputs": [],
   "source": [
    "def get_std_with_different_offset(data,key1,key2,algorithm,offset):\n",
    "    key1_offset=key1+\"_offset_\"+str(offset)\n",
    "    key2_offset=key2+\"_offset_\"+str(offset)\n",
    "    data[key1_offset]=data[key1].add(offset)\n",
    "    data[key2_offset]=data[key2].add(offset)\n",
    "    if algorithm=='morton':\n",
    "        data['morton_origin']=data.apply(set_value,args=(key1,key2),axis=1)\n",
    "        data['morton_offset']=data.apply(set_value,args=(key1_offset,key2_offset),axis=1)\n",
    "        data['offset_delta']=data['morton_offset']-data['morton_origin']\n",
    "        return data['offset_delta'].std()\n",
    "    elif algorithm=='hilbert':\n",
    "        data=set_value_Hcurve(data,key1,key2,'hilbert_origin')\n",
    "        data=set_value_Hcurve(data,key1_offset,key2_offset,'hilbert_offset')\n",
    "        data['offset_delta']=data['hilbert_offset']-data['hilbert_origin']\n",
    "        return data['offset_delta'].std()\n",
    "    else:\n",
    "        print(\"Please use either morton or hibert as algorithm parameter\")"
   ]
  },
  {
   "attachments": {},
   "cell_type": "markdown",
   "metadata": {},
   "source": [
    "## Morton offset"
   ]
  },
  {
   "cell_type": "code",
   "execution_count": 29,
   "metadata": {},
   "outputs": [
    {
     "name": "stdout",
     "output_type": "stream",
     "text": [
      "Found the offset that reject null hypothesis: 128\n"
     ]
    },
    {
     "data": {
      "text/html": [
       "<div>\n",
       "<style scoped>\n",
       "    .dataframe tbody tr th:only-of-type {\n",
       "        vertical-align: middle;\n",
       "    }\n",
       "\n",
       "    .dataframe tbody tr th {\n",
       "        vertical-align: top;\n",
       "    }\n",
       "\n",
       "    .dataframe thead th {\n",
       "        text-align: right;\n",
       "    }\n",
       "</style>\n",
       "<table border=\"1\" class=\"dataframe\">\n",
       "  <thead>\n",
       "    <tr style=\"text-align: right;\">\n",
       "      <th></th>\n",
       "      <th>offset</th>\n",
       "      <th>std</th>\n",
       "    </tr>\n",
       "  </thead>\n",
       "  <tbody>\n",
       "    <tr>\n",
       "      <th>0</th>\n",
       "      <td>2</td>\n",
       "      <td>1076.310898</td>\n",
       "    </tr>\n",
       "    <tr>\n",
       "      <th>1</th>\n",
       "      <td>3</td>\n",
       "      <td>1489.954738</td>\n",
       "    </tr>\n",
       "    <tr>\n",
       "      <th>2</th>\n",
       "      <td>4</td>\n",
       "      <td>1714.275493</td>\n",
       "    </tr>\n",
       "    <tr>\n",
       "      <th>3</th>\n",
       "      <td>5</td>\n",
       "      <td>1839.907088</td>\n",
       "    </tr>\n",
       "    <tr>\n",
       "      <th>4</th>\n",
       "      <td>6</td>\n",
       "      <td>1937.337546</td>\n",
       "    </tr>\n",
       "    <tr>\n",
       "      <th>...</th>\n",
       "      <td>...</td>\n",
       "      <td>...</td>\n",
       "    </tr>\n",
       "    <tr>\n",
       "      <th>122</th>\n",
       "      <td>124</td>\n",
       "      <td>5071.185675</td>\n",
       "    </tr>\n",
       "    <tr>\n",
       "      <th>123</th>\n",
       "      <td>125</td>\n",
       "      <td>4019.215086</td>\n",
       "    </tr>\n",
       "    <tr>\n",
       "      <th>124</th>\n",
       "      <td>126</td>\n",
       "      <td>2700.702770</td>\n",
       "    </tr>\n",
       "    <tr>\n",
       "      <th>125</th>\n",
       "      <td>127</td>\n",
       "      <td>649.905669</td>\n",
       "    </tr>\n",
       "    <tr>\n",
       "      <th>126</th>\n",
       "      <td>128</td>\n",
       "      <td>0.000000</td>\n",
       "    </tr>\n",
       "  </tbody>\n",
       "</table>\n",
       "<p>127 rows × 2 columns</p>\n",
       "</div>"
      ],
      "text/plain": [
       "     offset          std\n",
       "0         2  1076.310898\n",
       "1         3  1489.954738\n",
       "2         4  1714.275493\n",
       "3         5  1839.907088\n",
       "4         6  1937.337546\n",
       "..      ...          ...\n",
       "122     124  5071.185675\n",
       "123     125  4019.215086\n",
       "124     126  2700.702770\n",
       "125     127   649.905669\n",
       "126     128     0.000000\n",
       "\n",
       "[127 rows x 2 columns]"
      ]
     },
     "execution_count": 29,
     "metadata": {},
     "output_type": "execute_result"
    }
   ],
   "source": [
    "result_data=[]\n",
    "for i in range(2,200):\n",
    "    std = get_std_with_different_offset(df,'A','B','morton',i)\n",
    "    # print('offset: '+str(i)+', std is: '+str(std) )\n",
    "    result_data.append([i,std])\n",
    "    if std==0:\n",
    "        print('Found the offset that reject null hypothesis: '+str(i))\n",
    "        break\n",
    "result_df=pd.DataFrame(result_data,columns=['offset','std'])\n",
    "result_df"
   ]
  },
  {
   "attachments": {},
   "cell_type": "markdown",
   "metadata": {},
   "source": [
    "## Hilbert offset"
   ]
  },
  {
   "cell_type": "code",
   "execution_count": 30,
   "metadata": {},
   "outputs": [
    {
     "name": "stdout",
     "output_type": "stream",
     "text": [
      "Found the offset that reject null hypothesis: 384\n"
     ]
    },
    {
     "data": {
      "text/html": [
       "<div>\n",
       "<style scoped>\n",
       "    .dataframe tbody tr th:only-of-type {\n",
       "        vertical-align: middle;\n",
       "    }\n",
       "\n",
       "    .dataframe tbody tr th {\n",
       "        vertical-align: top;\n",
       "    }\n",
       "\n",
       "    .dataframe thead th {\n",
       "        text-align: right;\n",
       "    }\n",
       "</style>\n",
       "<table border=\"1\" class=\"dataframe\">\n",
       "  <thead>\n",
       "    <tr style=\"text-align: right;\">\n",
       "      <th></th>\n",
       "      <th>offset</th>\n",
       "      <th>std</th>\n",
       "    </tr>\n",
       "  </thead>\n",
       "  <tbody>\n",
       "    <tr>\n",
       "      <th>0</th>\n",
       "      <td>2</td>\n",
       "      <td>2418.888366</td>\n",
       "    </tr>\n",
       "    <tr>\n",
       "      <th>1</th>\n",
       "      <td>3</td>\n",
       "      <td>3425.919036</td>\n",
       "    </tr>\n",
       "    <tr>\n",
       "      <th>2</th>\n",
       "      <td>4</td>\n",
       "      <td>3676.331836</td>\n",
       "    </tr>\n",
       "    <tr>\n",
       "      <th>3</th>\n",
       "      <td>5</td>\n",
       "      <td>4004.119777</td>\n",
       "    </tr>\n",
       "    <tr>\n",
       "      <th>4</th>\n",
       "      <td>6</td>\n",
       "      <td>4250.963797</td>\n",
       "    </tr>\n",
       "    <tr>\n",
       "      <th>...</th>\n",
       "      <td>...</td>\n",
       "      <td>...</td>\n",
       "    </tr>\n",
       "    <tr>\n",
       "      <th>378</th>\n",
       "      <td>380</td>\n",
       "      <td>4098.814884</td>\n",
       "    </tr>\n",
       "    <tr>\n",
       "      <th>379</th>\n",
       "      <td>381</td>\n",
       "      <td>3488.276941</td>\n",
       "    </tr>\n",
       "    <tr>\n",
       "      <th>380</th>\n",
       "      <td>382</td>\n",
       "      <td>3292.330310</td>\n",
       "    </tr>\n",
       "    <tr>\n",
       "      <th>381</th>\n",
       "      <td>383</td>\n",
       "      <td>1138.667201</td>\n",
       "    </tr>\n",
       "    <tr>\n",
       "      <th>382</th>\n",
       "      <td>384</td>\n",
       "      <td>0.000000</td>\n",
       "    </tr>\n",
       "  </tbody>\n",
       "</table>\n",
       "<p>383 rows × 2 columns</p>\n",
       "</div>"
      ],
      "text/plain": [
       "     offset          std\n",
       "0         2  2418.888366\n",
       "1         3  3425.919036\n",
       "2         4  3676.331836\n",
       "3         5  4004.119777\n",
       "4         6  4250.963797\n",
       "..      ...          ...\n",
       "378     380  4098.814884\n",
       "379     381  3488.276941\n",
       "380     382  3292.330310\n",
       "381     383  1138.667201\n",
       "382     384     0.000000\n",
       "\n",
       "[383 rows x 2 columns]"
      ]
     },
     "execution_count": 30,
     "metadata": {},
     "output_type": "execute_result"
    }
   ],
   "source": [
    "result_data=[]\n",
    "for i in range(2,500):\n",
    "    std = get_std_with_different_offset(df,'A','B','hilbert',i)\n",
    "    result_data.append([i,std])\n",
    "    if std==0:\n",
    "        print('Found the offset that reject null hypothesis: '+str(i))\n",
    "        break\n",
    "result_df=pd.DataFrame(result_data,columns=['offset','std'])\n",
    "result_df"
   ]
  },
  {
   "attachments": {},
   "cell_type": "markdown",
   "metadata": {},
   "source": [
    "# Find the pattern\n",
    "with different max value of the dataset, find the respective offset for both hilbert and morton curve."
   ]
  },
  {
   "cell_type": "code",
   "execution_count": 31,
   "metadata": {},
   "outputs": [],
   "source": [
    "def find_offset_and_max_value_relation(data_max_value,search_max_value):\n",
    "    test_df = pd.DataFrame(np.random.randint(0,data_max_value,size=(25, 2)), columns=list('AB'))\n",
    "    max_value=test_df.max()\n",
    "    relation_result=[]\n",
    "    for i in range(1,search_max_value):\n",
    "        std_m = get_std_with_different_offset(test_df,'A','B','morton',i)\n",
    "        if std_m==0:\n",
    "            relation_result.append([data_max_value,max_value,i,'morton'])\n",
    "        std_h = get_std_with_different_offset(test_df,'A','B','hilbert',i)\n",
    "        if std_h==0:\n",
    "            relation_result.append([data_max_value,max_value,i,'hilbert'])\n",
    "    return pd.DataFrame(relation_result,columns=['input_max_value','df_max_value','offset','alogrithm'])\n"
   ]
  },
  {
   "cell_type": "code",
   "execution_count": 32,
   "metadata": {},
   "outputs": [
    {
     "ename": "KeyboardInterrupt",
     "evalue": "",
     "output_type": "error",
     "traceback": [
      "\u001b[0;31m---------------------------------------------------------------------------\u001b[0m",
      "\u001b[0;31mKeyboardInterrupt\u001b[0m                         Traceback (most recent call last)",
      "Cell \u001b[0;32mIn[32], line 3\u001b[0m\n\u001b[1;32m      1\u001b[0m relation_df\u001b[39m=\u001b[39mpd\u001b[39m.\u001b[39mDataFrame()\n\u001b[1;32m      2\u001b[0m \u001b[39mfor\u001b[39;00m i \u001b[39min\u001b[39;00m \u001b[39mrange\u001b[39m(\u001b[39m1\u001b[39m,\u001b[39m100\u001b[39m):\n\u001b[0;32m----> 3\u001b[0m     relation_df\u001b[39m=\u001b[39m pd\u001b[39m.\u001b[39mconcat([relation_df,find_offset_and_max_value_relation(i,\u001b[39m1000\u001b[39;49m)],axis\u001b[39m=\u001b[39m\u001b[39m1\u001b[39m)\n\u001b[1;32m      4\u001b[0m relation_df\n",
      "Cell \u001b[0;32mIn[31], line 9\u001b[0m, in \u001b[0;36mfind_offset_and_max_value_relation\u001b[0;34m(data_max_value, search_max_value)\u001b[0m\n\u001b[1;32m      7\u001b[0m \u001b[39mif\u001b[39;00m std_m\u001b[39m==\u001b[39m\u001b[39m0\u001b[39m:\n\u001b[1;32m      8\u001b[0m     relation_result\u001b[39m.\u001b[39mappend([data_max_value,max_value,i,\u001b[39m'\u001b[39m\u001b[39mmorton\u001b[39m\u001b[39m'\u001b[39m])\n\u001b[0;32m----> 9\u001b[0m std_h \u001b[39m=\u001b[39m get_std_with_different_offset(test_df,\u001b[39m'\u001b[39;49m\u001b[39mA\u001b[39;49m\u001b[39m'\u001b[39;49m,\u001b[39m'\u001b[39;49m\u001b[39mB\u001b[39;49m\u001b[39m'\u001b[39;49m,\u001b[39m'\u001b[39;49m\u001b[39mhilbert\u001b[39;49m\u001b[39m'\u001b[39;49m,i)\n\u001b[1;32m     10\u001b[0m \u001b[39mif\u001b[39;00m std_h\u001b[39m==\u001b[39m\u001b[39m0\u001b[39m:\n\u001b[1;32m     11\u001b[0m     relation_result\u001b[39m.\u001b[39mappend([data_max_value,max_value,i,\u001b[39m'\u001b[39m\u001b[39mhilbert\u001b[39m\u001b[39m'\u001b[39m])\n",
      "Cell \u001b[0;32mIn[11], line 13\u001b[0m, in \u001b[0;36mget_std_with_different_offset\u001b[0;34m(data, key1, key2, algorithm, offset)\u001b[0m\n\u001b[1;32m     11\u001b[0m \u001b[39melif\u001b[39;00m algorithm\u001b[39m==\u001b[39m\u001b[39m'\u001b[39m\u001b[39mhilbert\u001b[39m\u001b[39m'\u001b[39m:\n\u001b[1;32m     12\u001b[0m     data\u001b[39m=\u001b[39mset_value_Hcurve(data,key1,key2,\u001b[39m'\u001b[39m\u001b[39mhilbert_origin\u001b[39m\u001b[39m'\u001b[39m)\n\u001b[0;32m---> 13\u001b[0m     data\u001b[39m=\u001b[39mset_value_Hcurve(data,key1_offset,key2_offset,\u001b[39m'\u001b[39;49m\u001b[39mhilbert_offset\u001b[39;49m\u001b[39m'\u001b[39;49m)\n\u001b[1;32m     14\u001b[0m     data[\u001b[39m'\u001b[39m\u001b[39moffset_delta\u001b[39m\u001b[39m'\u001b[39m]\u001b[39m=\u001b[39mdata[\u001b[39m'\u001b[39m\u001b[39mhilbert_offset\u001b[39m\u001b[39m'\u001b[39m]\u001b[39m-\u001b[39mdata[\u001b[39m'\u001b[39m\u001b[39mhilbert_origin\u001b[39m\u001b[39m'\u001b[39m]\n\u001b[1;32m     15\u001b[0m     \u001b[39mreturn\u001b[39;00m data[\u001b[39m'\u001b[39m\u001b[39moffset_delta\u001b[39m\u001b[39m'\u001b[39m]\u001b[39m.\u001b[39mstd()\n",
      "Cell \u001b[0;32mIn[10], line 4\u001b[0m, in \u001b[0;36mset_value_Hcurve\u001b[0;34m(data, key1, key2, key3)\u001b[0m\n\u001b[1;32m      2\u001b[0m \u001b[39mdef\u001b[39;00m \u001b[39mset_value_Hcurve\u001b[39m(data,key1,key2,key3):\n\u001b[1;32m      3\u001b[0m     points \u001b[39m=\u001b[39m data[[key1,key2]]\u001b[39m.\u001b[39mto_numpy()\n\u001b[0;32m----> 4\u001b[0m     distances \u001b[39m=\u001b[39m hilbert_curve\u001b[39m.\u001b[39;49mdistances_from_points(points)\n\u001b[1;32m      5\u001b[0m     data[key3] \u001b[39m=\u001b[39m pd\u001b[39m.\u001b[39mDataFrame(distances )\n\u001b[1;32m      6\u001b[0m     \u001b[39mreturn\u001b[39;00m data\n",
      "File \u001b[0;32m~/micromamba/envs/sfc/lib/python3.9/site-packages/hilbertcurve/hilbertcurve.py:288\u001b[0m, in \u001b[0;36mHilbertCurve.distances_from_points\u001b[0;34m(self, points, match_type)\u001b[0m\n\u001b[1;32m    286\u001b[0m         distances\u001b[39m.\u001b[39mappend(distance)\n\u001b[1;32m    287\u001b[0m \u001b[39melse\u001b[39;00m:\n\u001b[0;32m--> 288\u001b[0m     \u001b[39mwith\u001b[39;00m Pool(\u001b[39mself\u001b[39;49m\u001b[39m.\u001b[39;49mn_procs) \u001b[39mas\u001b[39;00m p:\n\u001b[1;32m    289\u001b[0m         distances \u001b[39m=\u001b[39m p\u001b[39m.\u001b[39mmap(\u001b[39mself\u001b[39m\u001b[39m.\u001b[39mdistance_from_point, points)\n\u001b[1;32m    291\u001b[0m \u001b[39mif\u001b[39;00m match_type:\n",
      "File \u001b[0;32m~/micromamba/envs/sfc/lib/python3.9/multiprocessing/context.py:119\u001b[0m, in \u001b[0;36mBaseContext.Pool\u001b[0;34m(self, processes, initializer, initargs, maxtasksperchild)\u001b[0m\n\u001b[1;32m    117\u001b[0m \u001b[39m\u001b[39m\u001b[39m'''Returns a process pool object'''\u001b[39;00m\n\u001b[1;32m    118\u001b[0m \u001b[39mfrom\u001b[39;00m \u001b[39m.\u001b[39;00m\u001b[39mpool\u001b[39;00m \u001b[39mimport\u001b[39;00m Pool\n\u001b[0;32m--> 119\u001b[0m \u001b[39mreturn\u001b[39;00m Pool(processes, initializer, initargs, maxtasksperchild,\n\u001b[1;32m    120\u001b[0m             context\u001b[39m=\u001b[39;49m\u001b[39mself\u001b[39;49m\u001b[39m.\u001b[39;49mget_context())\n",
      "File \u001b[0;32m~/micromamba/envs/sfc/lib/python3.9/multiprocessing/pool.py:212\u001b[0m, in \u001b[0;36mPool.__init__\u001b[0;34m(self, processes, initializer, initargs, maxtasksperchild, context)\u001b[0m\n\u001b[1;32m    210\u001b[0m \u001b[39mself\u001b[39m\u001b[39m.\u001b[39m_processes \u001b[39m=\u001b[39m processes\n\u001b[1;32m    211\u001b[0m \u001b[39mtry\u001b[39;00m:\n\u001b[0;32m--> 212\u001b[0m     \u001b[39mself\u001b[39;49m\u001b[39m.\u001b[39;49m_repopulate_pool()\n\u001b[1;32m    213\u001b[0m \u001b[39mexcept\u001b[39;00m \u001b[39mException\u001b[39;00m:\n\u001b[1;32m    214\u001b[0m     \u001b[39mfor\u001b[39;00m p \u001b[39min\u001b[39;00m \u001b[39mself\u001b[39m\u001b[39m.\u001b[39m_pool:\n",
      "File \u001b[0;32m~/micromamba/envs/sfc/lib/python3.9/multiprocessing/pool.py:303\u001b[0m, in \u001b[0;36mPool._repopulate_pool\u001b[0;34m(self)\u001b[0m\n\u001b[1;32m    302\u001b[0m \u001b[39mdef\u001b[39;00m \u001b[39m_repopulate_pool\u001b[39m(\u001b[39mself\u001b[39m):\n\u001b[0;32m--> 303\u001b[0m     \u001b[39mreturn\u001b[39;00m \u001b[39mself\u001b[39;49m\u001b[39m.\u001b[39;49m_repopulate_pool_static(\u001b[39mself\u001b[39;49m\u001b[39m.\u001b[39;49m_ctx, \u001b[39mself\u001b[39;49m\u001b[39m.\u001b[39;49mProcess,\n\u001b[1;32m    304\u001b[0m                                         \u001b[39mself\u001b[39;49m\u001b[39m.\u001b[39;49m_processes,\n\u001b[1;32m    305\u001b[0m                                         \u001b[39mself\u001b[39;49m\u001b[39m.\u001b[39;49m_pool, \u001b[39mself\u001b[39;49m\u001b[39m.\u001b[39;49m_inqueue,\n\u001b[1;32m    306\u001b[0m                                         \u001b[39mself\u001b[39;49m\u001b[39m.\u001b[39;49m_outqueue, \u001b[39mself\u001b[39;49m\u001b[39m.\u001b[39;49m_initializer,\n\u001b[1;32m    307\u001b[0m                                         \u001b[39mself\u001b[39;49m\u001b[39m.\u001b[39;49m_initargs,\n\u001b[1;32m    308\u001b[0m                                         \u001b[39mself\u001b[39;49m\u001b[39m.\u001b[39;49m_maxtasksperchild,\n\u001b[1;32m    309\u001b[0m                                         \u001b[39mself\u001b[39;49m\u001b[39m.\u001b[39;49m_wrap_exception)\n",
      "File \u001b[0;32m~/micromamba/envs/sfc/lib/python3.9/multiprocessing/pool.py:326\u001b[0m, in \u001b[0;36mPool._repopulate_pool_static\u001b[0;34m(ctx, Process, processes, pool, inqueue, outqueue, initializer, initargs, maxtasksperchild, wrap_exception)\u001b[0m\n\u001b[1;32m    324\u001b[0m w\u001b[39m.\u001b[39mname \u001b[39m=\u001b[39m w\u001b[39m.\u001b[39mname\u001b[39m.\u001b[39mreplace(\u001b[39m'\u001b[39m\u001b[39mProcess\u001b[39m\u001b[39m'\u001b[39m, \u001b[39m'\u001b[39m\u001b[39mPoolWorker\u001b[39m\u001b[39m'\u001b[39m)\n\u001b[1;32m    325\u001b[0m w\u001b[39m.\u001b[39mdaemon \u001b[39m=\u001b[39m \u001b[39mTrue\u001b[39;00m\n\u001b[0;32m--> 326\u001b[0m w\u001b[39m.\u001b[39;49mstart()\n\u001b[1;32m    327\u001b[0m pool\u001b[39m.\u001b[39mappend(w)\n\u001b[1;32m    328\u001b[0m util\u001b[39m.\u001b[39mdebug(\u001b[39m'\u001b[39m\u001b[39madded worker\u001b[39m\u001b[39m'\u001b[39m)\n",
      "File \u001b[0;32m~/micromamba/envs/sfc/lib/python3.9/multiprocessing/process.py:121\u001b[0m, in \u001b[0;36mBaseProcess.start\u001b[0;34m(self)\u001b[0m\n\u001b[1;32m    118\u001b[0m \u001b[39massert\u001b[39;00m \u001b[39mnot\u001b[39;00m _current_process\u001b[39m.\u001b[39m_config\u001b[39m.\u001b[39mget(\u001b[39m'\u001b[39m\u001b[39mdaemon\u001b[39m\u001b[39m'\u001b[39m), \\\n\u001b[1;32m    119\u001b[0m        \u001b[39m'\u001b[39m\u001b[39mdaemonic processes are not allowed to have children\u001b[39m\u001b[39m'\u001b[39m\n\u001b[1;32m    120\u001b[0m _cleanup()\n\u001b[0;32m--> 121\u001b[0m \u001b[39mself\u001b[39m\u001b[39m.\u001b[39m_popen \u001b[39m=\u001b[39m \u001b[39mself\u001b[39;49m\u001b[39m.\u001b[39;49m_Popen(\u001b[39mself\u001b[39;49m)\n\u001b[1;32m    122\u001b[0m \u001b[39mself\u001b[39m\u001b[39m.\u001b[39m_sentinel \u001b[39m=\u001b[39m \u001b[39mself\u001b[39m\u001b[39m.\u001b[39m_popen\u001b[39m.\u001b[39msentinel\n\u001b[1;32m    123\u001b[0m \u001b[39m# Avoid a refcycle if the target function holds an indirect\u001b[39;00m\n\u001b[1;32m    124\u001b[0m \u001b[39m# reference to the process object (see bpo-30775)\u001b[39;00m\n",
      "File \u001b[0;32m~/micromamba/envs/sfc/lib/python3.9/multiprocessing/context.py:284\u001b[0m, in \u001b[0;36mSpawnProcess._Popen\u001b[0;34m(process_obj)\u001b[0m\n\u001b[1;32m    281\u001b[0m \u001b[39m@staticmethod\u001b[39m\n\u001b[1;32m    282\u001b[0m \u001b[39mdef\u001b[39;00m \u001b[39m_Popen\u001b[39m(process_obj):\n\u001b[1;32m    283\u001b[0m     \u001b[39mfrom\u001b[39;00m \u001b[39m.\u001b[39;00m\u001b[39mpopen_spawn_posix\u001b[39;00m \u001b[39mimport\u001b[39;00m Popen\n\u001b[0;32m--> 284\u001b[0m     \u001b[39mreturn\u001b[39;00m Popen(process_obj)\n",
      "File \u001b[0;32m~/micromamba/envs/sfc/lib/python3.9/multiprocessing/popen_spawn_posix.py:32\u001b[0m, in \u001b[0;36mPopen.__init__\u001b[0;34m(self, process_obj)\u001b[0m\n\u001b[1;32m     30\u001b[0m \u001b[39mdef\u001b[39;00m \u001b[39m__init__\u001b[39m(\u001b[39mself\u001b[39m, process_obj):\n\u001b[1;32m     31\u001b[0m     \u001b[39mself\u001b[39m\u001b[39m.\u001b[39m_fds \u001b[39m=\u001b[39m []\n\u001b[0;32m---> 32\u001b[0m     \u001b[39msuper\u001b[39;49m()\u001b[39m.\u001b[39;49m\u001b[39m__init__\u001b[39;49m(process_obj)\n",
      "File \u001b[0;32m~/micromamba/envs/sfc/lib/python3.9/multiprocessing/popen_fork.py:16\u001b[0m, in \u001b[0;36mPopen.__init__\u001b[0;34m(self, process_obj)\u001b[0m\n\u001b[1;32m     15\u001b[0m \u001b[39mdef\u001b[39;00m \u001b[39m__init__\u001b[39m(\u001b[39mself\u001b[39m, process_obj):\n\u001b[0;32m---> 16\u001b[0m     util\u001b[39m.\u001b[39;49m_flush_std_streams()\n\u001b[1;32m     17\u001b[0m     \u001b[39mself\u001b[39m\u001b[39m.\u001b[39mreturncode \u001b[39m=\u001b[39m \u001b[39mNone\u001b[39;00m\n\u001b[1;32m     18\u001b[0m     \u001b[39mself\u001b[39m\u001b[39m.\u001b[39mfinalizer \u001b[39m=\u001b[39m \u001b[39mNone\u001b[39;00m\n",
      "File \u001b[0;32m~/micromamba/envs/sfc/lib/python3.9/multiprocessing/util.py:439\u001b[0m, in \u001b[0;36m_flush_std_streams\u001b[0;34m()\u001b[0m\n\u001b[1;32m    437\u001b[0m     \u001b[39mpass\u001b[39;00m\n\u001b[1;32m    438\u001b[0m \u001b[39mtry\u001b[39;00m:\n\u001b[0;32m--> 439\u001b[0m     sys\u001b[39m.\u001b[39;49mstderr\u001b[39m.\u001b[39;49mflush()\n\u001b[1;32m    440\u001b[0m \u001b[39mexcept\u001b[39;00m (\u001b[39mAttributeError\u001b[39;00m, \u001b[39mValueError\u001b[39;00m):\n\u001b[1;32m    441\u001b[0m     \u001b[39mpass\u001b[39;00m\n",
      "File \u001b[0;32m~/micromamba/envs/sfc/lib/python3.9/site-packages/ipykernel/iostream.py:492\u001b[0m, in \u001b[0;36mOutStream.flush\u001b[0;34m(self)\u001b[0m\n\u001b[1;32m    481\u001b[0m \u001b[39m\u001b[39m\u001b[39m\"\"\"trigger actual zmq send\u001b[39;00m\n\u001b[1;32m    482\u001b[0m \n\u001b[1;32m    483\u001b[0m \u001b[39msend will happen in the background thread\u001b[39;00m\n\u001b[1;32m    484\u001b[0m \u001b[39m\"\"\"\u001b[39;00m\n\u001b[1;32m    485\u001b[0m \u001b[39mif\u001b[39;00m (\n\u001b[1;32m    486\u001b[0m     \u001b[39mself\u001b[39m\u001b[39m.\u001b[39mpub_thread\n\u001b[1;32m    487\u001b[0m     \u001b[39mand\u001b[39;00m \u001b[39mself\u001b[39m\u001b[39m.\u001b[39mpub_thread\u001b[39m.\u001b[39mthread \u001b[39mis\u001b[39;00m \u001b[39mnot\u001b[39;00m \u001b[39mNone\u001b[39;00m\n\u001b[0;32m   (...)\u001b[0m\n\u001b[1;32m    490\u001b[0m ):\n\u001b[1;32m    491\u001b[0m     \u001b[39m# request flush on the background thread\u001b[39;00m\n\u001b[0;32m--> 492\u001b[0m     \u001b[39mself\u001b[39;49m\u001b[39m.\u001b[39;49mpub_thread\u001b[39m.\u001b[39;49mschedule(\u001b[39mself\u001b[39;49m\u001b[39m.\u001b[39;49m_flush)\n\u001b[1;32m    493\u001b[0m     \u001b[39m# wait for flush to actually get through, if we can.\u001b[39;00m\n\u001b[1;32m    494\u001b[0m     evt \u001b[39m=\u001b[39m threading\u001b[39m.\u001b[39mEvent()\n",
      "File \u001b[0;32m~/micromamba/envs/sfc/lib/python3.9/site-packages/ipykernel/iostream.py:211\u001b[0m, in \u001b[0;36mIOPubThread.schedule\u001b[0;34m(self, f)\u001b[0m\n\u001b[1;32m    209\u001b[0m     \u001b[39mself\u001b[39m\u001b[39m.\u001b[39m_events\u001b[39m.\u001b[39mappend(f)\n\u001b[1;32m    210\u001b[0m     \u001b[39m# wake event thread (message content is ignored)\u001b[39;00m\n\u001b[0;32m--> 211\u001b[0m     \u001b[39mself\u001b[39;49m\u001b[39m.\u001b[39;49m_event_pipe\u001b[39m.\u001b[39;49msend(\u001b[39mb\u001b[39;49m\u001b[39m\"\u001b[39;49m\u001b[39m\"\u001b[39;49m)\n\u001b[1;32m    212\u001b[0m \u001b[39melse\u001b[39;00m:\n\u001b[1;32m    213\u001b[0m     f()\n",
      "File \u001b[0;32m~/micromamba/envs/sfc/lib/python3.9/site-packages/zmq/sugar/socket.py:688\u001b[0m, in \u001b[0;36mSocket.send\u001b[0;34m(self, data, flags, copy, track, routing_id, group)\u001b[0m\n\u001b[1;32m    681\u001b[0m         data \u001b[39m=\u001b[39m zmq\u001b[39m.\u001b[39mFrame(\n\u001b[1;32m    682\u001b[0m             data,\n\u001b[1;32m    683\u001b[0m             track\u001b[39m=\u001b[39mtrack,\n\u001b[1;32m    684\u001b[0m             copy\u001b[39m=\u001b[39mcopy \u001b[39mor\u001b[39;00m \u001b[39mNone\u001b[39;00m,\n\u001b[1;32m    685\u001b[0m             copy_threshold\u001b[39m=\u001b[39m\u001b[39mself\u001b[39m\u001b[39m.\u001b[39mcopy_threshold,\n\u001b[1;32m    686\u001b[0m         )\n\u001b[1;32m    687\u001b[0m     data\u001b[39m.\u001b[39mgroup \u001b[39m=\u001b[39m group\n\u001b[0;32m--> 688\u001b[0m \u001b[39mreturn\u001b[39;00m \u001b[39msuper\u001b[39;49m()\u001b[39m.\u001b[39;49msend(data, flags\u001b[39m=\u001b[39;49mflags, copy\u001b[39m=\u001b[39;49mcopy, track\u001b[39m=\u001b[39;49mtrack)\n",
      "File \u001b[0;32mzmq/backend/cython/socket.pyx:742\u001b[0m, in \u001b[0;36mzmq.backend.cython.socket.Socket.send\u001b[0;34m()\u001b[0m\n",
      "File \u001b[0;32mzmq/backend/cython/socket.pyx:789\u001b[0m, in \u001b[0;36mzmq.backend.cython.socket.Socket.send\u001b[0;34m()\u001b[0m\n",
      "File \u001b[0;32mzmq/backend/cython/socket.pyx:250\u001b[0m, in \u001b[0;36mzmq.backend.cython.socket._send_copy\u001b[0;34m()\u001b[0m\n",
      "File \u001b[0;32m~/micromamba/envs/sfc/lib/python3.9/site-packages/zmq/backend/cython/checkrc.pxd:13\u001b[0m, in \u001b[0;36mzmq.backend.cython.checkrc._check_rc\u001b[0;34m()\u001b[0m\n",
      "\u001b[0;31mKeyboardInterrupt\u001b[0m: "
     ]
    }
   ],
   "source": [
    "relation_df=pd.DataFrame()\n",
    "for i in range(1,100):\n",
    "    relation_df= pd.concat([relation_df,find_offset_and_max_value_relation(i,1000)],axis=1)\n",
    "relation_df"
   ]
  },
  {
   "attachments": {},
   "cell_type": "markdown",
   "metadata": {},
   "source": [
    "# Multiplier Experiment"
   ]
  },
  {
   "cell_type": "code",
   "execution_count": null,
   "metadata": {},
   "outputs": [],
   "source": []
  }
 ],
 "metadata": {
  "kernelspec": {
   "display_name": "Python 3 (ipykernel)",
   "language": "python",
   "name": "python3"
  },
  "language_info": {
   "codemirror_mode": {
    "name": "ipython",
    "version": 3
   },
   "file_extension": ".py",
   "mimetype": "text/x-python",
   "name": "python",
   "nbconvert_exporter": "python",
   "pygments_lexer": "ipython3",
   "version": "3.9.16"
  },
  "orig_nbformat": 4
 },
 "nbformat": 4,
 "nbformat_minor": 2
}
