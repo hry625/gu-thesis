{
 "cells": [
  {
   "cell_type": "code",
   "execution_count": 4,
   "metadata": {},
   "outputs": [],
   "source": [
    "import pandas as pd\n",
    "import matplotlib.pyplot as plt\n",
    "import numpy as np\n",
    "import morton\n",
    "import math\n",
    "from hilbertcurve.hilbertcurve import HilbertCurve"
   ]
  },
  {
   "cell_type": "code",
   "execution_count": 5,
   "metadata": {},
   "outputs": [
    {
     "data": {
      "text/html": [
       "<div>\n",
       "<style scoped>\n",
       "    .dataframe tbody tr th:only-of-type {\n",
       "        vertical-align: middle;\n",
       "    }\n",
       "\n",
       "    .dataframe tbody tr th {\n",
       "        vertical-align: top;\n",
       "    }\n",
       "\n",
       "    .dataframe thead th {\n",
       "        text-align: right;\n",
       "    }\n",
       "</style>\n",
       "<table border=\"1\" class=\"dataframe\">\n",
       "  <thead>\n",
       "    <tr style=\"text-align: right;\">\n",
       "      <th></th>\n",
       "      <th>A</th>\n",
       "      <th>B</th>\n",
       "    </tr>\n",
       "  </thead>\n",
       "  <tbody>\n",
       "    <tr>\n",
       "      <th>count</th>\n",
       "      <td>100.000000</td>\n",
       "      <td>100.000000</td>\n",
       "    </tr>\n",
       "    <tr>\n",
       "      <th>mean</th>\n",
       "      <td>32.800000</td>\n",
       "      <td>30.920000</td>\n",
       "    </tr>\n",
       "    <tr>\n",
       "      <th>std</th>\n",
       "      <td>17.950549</td>\n",
       "      <td>19.064314</td>\n",
       "    </tr>\n",
       "    <tr>\n",
       "      <th>min</th>\n",
       "      <td>1.000000</td>\n",
       "      <td>0.000000</td>\n",
       "    </tr>\n",
       "    <tr>\n",
       "      <th>25%</th>\n",
       "      <td>18.750000</td>\n",
       "      <td>15.000000</td>\n",
       "    </tr>\n",
       "    <tr>\n",
       "      <th>50%</th>\n",
       "      <td>33.000000</td>\n",
       "      <td>31.000000</td>\n",
       "    </tr>\n",
       "    <tr>\n",
       "      <th>75%</th>\n",
       "      <td>49.000000</td>\n",
       "      <td>46.500000</td>\n",
       "    </tr>\n",
       "    <tr>\n",
       "      <th>max</th>\n",
       "      <td>63.000000</td>\n",
       "      <td>64.000000</td>\n",
       "    </tr>\n",
       "  </tbody>\n",
       "</table>\n",
       "</div>"
      ],
      "text/plain": [
       "                A           B\n",
       "count  100.000000  100.000000\n",
       "mean    32.800000   30.920000\n",
       "std     17.950549   19.064314\n",
       "min      1.000000    0.000000\n",
       "25%     18.750000   15.000000\n",
       "50%     33.000000   31.000000\n",
       "75%     49.000000   46.500000\n",
       "max     63.000000   64.000000"
      ]
     },
     "execution_count": 5,
     "metadata": {},
     "output_type": "execute_result"
    }
   ],
   "source": [
    "# Create 2D data\n",
    "df = pd.DataFrame(np.random.randint(0,65,size=(100, 2)), columns=list('AB'))\n",
    "df.describe()"
   ]
  },
  {
   "cell_type": "code",
   "execution_count": 6,
   "metadata": {},
   "outputs": [],
   "source": [
    "# Morton algorithm\n",
    "m = morton.Morton(dimensions=2, bits=64)\n",
    "def set_value(data,key1,key2):    \n",
    "    return m.pack(int(data[key1]), int(data[key2]))\n"
   ]
  },
  {
   "cell_type": "code",
   "execution_count": 7,
   "metadata": {},
   "outputs": [],
   "source": [
    "hilbert_curve = HilbertCurve(64, 2, n_procs=-1)\n",
    "def set_value_Hcurve(data,key1,key2,key3):\n",
    "    points = data[[key1,key2]].to_numpy()\n",
    "    distances = hilbert_curve.distances_from_points(points)\n",
    "    data[key3] = pd.DataFrame(distances )\n",
    "    return data"
   ]
  },
  {
   "attachments": {},
   "cell_type": "markdown",
   "metadata": {},
   "source": [
    "# Offset Experiment\n",
    "H0: There is no offset value that could move the CSP consistently \n",
    "HA: There is one offset value that could move the CSP consistently"
   ]
  },
  {
   "cell_type": "code",
   "execution_count": null,
   "metadata": {},
   "outputs": [],
   "source": []
  },
  {
   "cell_type": "code",
   "execution_count": 8,
   "metadata": {},
   "outputs": [],
   "source": [
    "def get_std_with_different_offset(data,key1,key2,algorithm,offset1,offset2):\n",
    "    key1_offset=key1+\"_offset_\"+str(offset1)\n",
    "    key2_offset=key2+\"_offset_\"+str(offset2)\n",
    "    data[key1_offset]=data[key1].add(offset1)\n",
    "    data[key2_offset]=data[key2].add(offset2)\n",
    "    if algorithm=='morton':\n",
    "        data['morton_origin']=data.apply(set_value,args=(key1,key2),axis=1)\n",
    "        data['morton_offset']=data.apply(set_value,args=(key1_offset,key2_offset),axis=1)\n",
    "        data['offset_delta']=data['morton_offset']-data['morton_origin']\n",
    "        return data['offset_delta'].std()\n",
    "    elif algorithm=='hilbert':\n",
    "        data=set_value_Hcurve(data,key1,key2,'hilbert_origin')\n",
    "        data=set_value_Hcurve(data,key1_offset,key2_offset,'hilbert_offset')\n",
    "        data['offset_delta']=data['hilbert_offset']-data['hilbert_origin']\n",
    "        return data['offset_delta'].std()\n",
    "    else:\n",
    "        print(\"Please use either morton or hibert as algorithm parameter\")"
   ]
  },
  {
   "cell_type": "code",
   "execution_count": 23,
   "metadata": {},
   "outputs": [],
   "source": [
    "def get_std_with_different_multiplier(data,key1,key2,algorithm,multiplier1,multiplier2):\n",
    "    key1_offset=key1+\"_multiplier_\"+str(multiplier1)\n",
    "    key2_offset=key2+\"_multiplier_\"+str(multiplier2)\n",
    "    data[key1_offset]=data[key1].multiply(multiplier1)\n",
    "    data[key2_offset]=data[key2].multiply(multiplier2)\n",
    "    if algorithm=='morton':\n",
    "        data['morton_origin']=data.apply(set_value,args=(key1,key2),axis=1)\n",
    "        data['morton_multiplier']=data.apply(set_value,args=(key1_offset,key2_offset),axis=1)\n",
    "        data['offset_delta']=data['morton_multiplier']/data['morton_origin']\n",
    "        return data['offset_delta'].std()\n",
    "    elif algorithm=='hilbert':\n",
    "        data=set_value_Hcurve(data,key1,key2,'hilbert_origin')\n",
    "        data=set_value_Hcurve(data,key1_offset,key2_offset,'hilbert_multiplier')\n",
    "        data['offset_delta']=data['hilbert_multiplier']/data['hilbert_origin']\n",
    "        return data['offset_delta'].std()\n",
    "    else:\n",
    "        print(\"Please use either morton or hibert as algorithm parameter\")"
   ]
  },
  {
   "attachments": {},
   "cell_type": "markdown",
   "metadata": {},
   "source": [
    "## Morton offset"
   ]
  },
  {
   "attachments": {},
   "cell_type": "markdown",
   "metadata": {},
   "source": [
    "### Symmetric"
   ]
  },
  {
   "cell_type": "code",
   "execution_count": 14,
   "metadata": {},
   "outputs": [
    {
     "name": "stdout",
     "output_type": "stream",
     "text": [
      "Found the offset that reject null hypothesis: 128\n"
     ]
    },
    {
     "data": {
      "text/html": [
       "<div>\n",
       "<style scoped>\n",
       "    .dataframe tbody tr th:only-of-type {\n",
       "        vertical-align: middle;\n",
       "    }\n",
       "\n",
       "    .dataframe tbody tr th {\n",
       "        vertical-align: top;\n",
       "    }\n",
       "\n",
       "    .dataframe thead th {\n",
       "        text-align: right;\n",
       "    }\n",
       "</style>\n",
       "<table border=\"1\" class=\"dataframe\">\n",
       "  <thead>\n",
       "    <tr style=\"text-align: right;\">\n",
       "      <th></th>\n",
       "      <th>offset</th>\n",
       "      <th>std</th>\n",
       "    </tr>\n",
       "  </thead>\n",
       "  <tbody>\n",
       "    <tr>\n",
       "      <th>0</th>\n",
       "      <td>2</td>\n",
       "      <td>1083.231055</td>\n",
       "    </tr>\n",
       "    <tr>\n",
       "      <th>1</th>\n",
       "      <td>3</td>\n",
       "      <td>1341.047493</td>\n",
       "    </tr>\n",
       "    <tr>\n",
       "      <th>2</th>\n",
       "      <td>4</td>\n",
       "      <td>1494.820939</td>\n",
       "    </tr>\n",
       "    <tr>\n",
       "      <th>3</th>\n",
       "      <td>5</td>\n",
       "      <td>1531.923199</td>\n",
       "    </tr>\n",
       "    <tr>\n",
       "      <th>4</th>\n",
       "      <td>6</td>\n",
       "      <td>1705.721971</td>\n",
       "    </tr>\n",
       "    <tr>\n",
       "      <th>...</th>\n",
       "      <td>...</td>\n",
       "      <td>...</td>\n",
       "    </tr>\n",
       "    <tr>\n",
       "      <th>122</th>\n",
       "      <td>124</td>\n",
       "      <td>5436.656370</td>\n",
       "    </tr>\n",
       "    <tr>\n",
       "      <th>123</th>\n",
       "      <td>125</td>\n",
       "      <td>4938.057727</td>\n",
       "    </tr>\n",
       "    <tr>\n",
       "      <th>124</th>\n",
       "      <td>126</td>\n",
       "      <td>3639.830707</td>\n",
       "    </tr>\n",
       "    <tr>\n",
       "      <th>125</th>\n",
       "      <td>127</td>\n",
       "      <td>2978.023311</td>\n",
       "    </tr>\n",
       "    <tr>\n",
       "      <th>126</th>\n",
       "      <td>128</td>\n",
       "      <td>0.000000</td>\n",
       "    </tr>\n",
       "  </tbody>\n",
       "</table>\n",
       "<p>127 rows × 2 columns</p>\n",
       "</div>"
      ],
      "text/plain": [
       "     offset          std\n",
       "0         2  1083.231055\n",
       "1         3  1341.047493\n",
       "2         4  1494.820939\n",
       "3         5  1531.923199\n",
       "4         6  1705.721971\n",
       "..      ...          ...\n",
       "122     124  5436.656370\n",
       "123     125  4938.057727\n",
       "124     126  3639.830707\n",
       "125     127  2978.023311\n",
       "126     128     0.000000\n",
       "\n",
       "[127 rows x 2 columns]"
      ]
     },
     "execution_count": 14,
     "metadata": {},
     "output_type": "execute_result"
    }
   ],
   "source": [
    "result_data_mos=[]\n",
    "for i in range(2,200):\n",
    "    std = get_std_with_different_offset(df,'A','B','morton',i,i)\n",
    "    # print('offset: '+str(i)+', std is: '+str(std) )\n",
    "    result_data_mos.append([i,std])\n",
    "    if std==0:\n",
    "        print('Found the offset that reject null hypothesis: '+str(i))\n",
    "        break\n",
    "result_df_mos=pd.DataFrame(result_data_mos,columns=['offset','std'])\n",
    "result_df_mos"
   ]
  },
  {
   "attachments": {},
   "cell_type": "markdown",
   "metadata": {},
   "source": [
    "### Asymetric"
   ]
  },
  {
   "cell_type": "code",
   "execution_count": 15,
   "metadata": {},
   "outputs": [
    {
     "name": "stdout",
     "output_type": "stream",
     "text": [
      "Found the offset that reject null hypothesis: 128\n"
     ]
    },
    {
     "data": {
      "text/html": [
       "<div>\n",
       "<style scoped>\n",
       "    .dataframe tbody tr th:only-of-type {\n",
       "        vertical-align: middle;\n",
       "    }\n",
       "\n",
       "    .dataframe tbody tr th {\n",
       "        vertical-align: top;\n",
       "    }\n",
       "\n",
       "    .dataframe thead th {\n",
       "        text-align: right;\n",
       "    }\n",
       "</style>\n",
       "<table border=\"1\" class=\"dataframe\">\n",
       "  <thead>\n",
       "    <tr style=\"text-align: right;\">\n",
       "      <th></th>\n",
       "      <th>offset</th>\n",
       "      <th>std</th>\n",
       "    </tr>\n",
       "  </thead>\n",
       "  <tbody>\n",
       "    <tr>\n",
       "      <th>0</th>\n",
       "      <td>2</td>\n",
       "      <td>958.303471</td>\n",
       "    </tr>\n",
       "    <tr>\n",
       "      <th>1</th>\n",
       "      <td>3</td>\n",
       "      <td>1208.231488</td>\n",
       "    </tr>\n",
       "    <tr>\n",
       "      <th>2</th>\n",
       "      <td>4</td>\n",
       "      <td>1400.273529</td>\n",
       "    </tr>\n",
       "    <tr>\n",
       "      <th>3</th>\n",
       "      <td>5</td>\n",
       "      <td>1391.538586</td>\n",
       "    </tr>\n",
       "    <tr>\n",
       "      <th>4</th>\n",
       "      <td>6</td>\n",
       "      <td>1466.471339</td>\n",
       "    </tr>\n",
       "    <tr>\n",
       "      <th>...</th>\n",
       "      <td>...</td>\n",
       "      <td>...</td>\n",
       "    </tr>\n",
       "    <tr>\n",
       "      <th>122</th>\n",
       "      <td>124</td>\n",
       "      <td>4813.308376</td>\n",
       "    </tr>\n",
       "    <tr>\n",
       "      <th>123</th>\n",
       "      <td>125</td>\n",
       "      <td>4354.351282</td>\n",
       "    </tr>\n",
       "    <tr>\n",
       "      <th>124</th>\n",
       "      <td>126</td>\n",
       "      <td>3184.394693</td>\n",
       "    </tr>\n",
       "    <tr>\n",
       "      <th>125</th>\n",
       "      <td>127</td>\n",
       "      <td>2358.321917</td>\n",
       "    </tr>\n",
       "    <tr>\n",
       "      <th>126</th>\n",
       "      <td>128</td>\n",
       "      <td>0.000000</td>\n",
       "    </tr>\n",
       "  </tbody>\n",
       "</table>\n",
       "<p>127 rows × 2 columns</p>\n",
       "</div>"
      ],
      "text/plain": [
       "     offset          std\n",
       "0         2   958.303471\n",
       "1         3  1208.231488\n",
       "2         4  1400.273529\n",
       "3         5  1391.538586\n",
       "4         6  1466.471339\n",
       "..      ...          ...\n",
       "122     124  4813.308376\n",
       "123     125  4354.351282\n",
       "124     126  3184.394693\n",
       "125     127  2358.321917\n",
       "126     128     0.000000\n",
       "\n",
       "[127 rows x 2 columns]"
      ]
     },
     "execution_count": 15,
     "metadata": {},
     "output_type": "execute_result"
    }
   ],
   "source": [
    "result_data=[]\n",
    "for i in range(2,200):\n",
    "    std = get_std_with_different_offset(df,'A','B','morton',0,i)\n",
    "    # print('offset: '+str(i)+', std is: '+str(std) )\n",
    "    result_data.append([i,std])\n",
    "    if std==0:\n",
    "        print('Found the offset that reject null hypothesis: '+str(i))\n",
    "        break\n",
    "result_df_moa=pd.DataFrame(result_data,columns=['offset','std'])\n",
    "result_df_moa"
   ]
  },
  {
   "attachments": {},
   "cell_type": "markdown",
   "metadata": {},
   "source": [
    "## Hilbert offset"
   ]
  },
  {
   "attachments": {},
   "cell_type": "markdown",
   "metadata": {},
   "source": [
    "### Symmetric"
   ]
  },
  {
   "cell_type": "code",
   "execution_count": 8,
   "metadata": {},
   "outputs": [
    {
     "name": "stdout",
     "output_type": "stream",
     "text": [
      "Found the offset that reject null hypothesis: 192\n"
     ]
    },
    {
     "data": {
      "text/html": [
       "<div>\n",
       "<style scoped>\n",
       "    .dataframe tbody tr th:only-of-type {\n",
       "        vertical-align: middle;\n",
       "    }\n",
       "\n",
       "    .dataframe tbody tr th {\n",
       "        vertical-align: top;\n",
       "    }\n",
       "\n",
       "    .dataframe thead th {\n",
       "        text-align: right;\n",
       "    }\n",
       "</style>\n",
       "<table border=\"1\" class=\"dataframe\">\n",
       "  <thead>\n",
       "    <tr style=\"text-align: right;\">\n",
       "      <th></th>\n",
       "      <th>offset</th>\n",
       "      <th>std</th>\n",
       "    </tr>\n",
       "  </thead>\n",
       "  <tbody>\n",
       "    <tr>\n",
       "      <th>0</th>\n",
       "      <td>2</td>\n",
       "      <td>2449.408587</td>\n",
       "    </tr>\n",
       "    <tr>\n",
       "      <th>1</th>\n",
       "      <td>3</td>\n",
       "      <td>3028.842285</td>\n",
       "    </tr>\n",
       "    <tr>\n",
       "      <th>2</th>\n",
       "      <td>4</td>\n",
       "      <td>3187.285203</td>\n",
       "    </tr>\n",
       "    <tr>\n",
       "      <th>3</th>\n",
       "      <td>5</td>\n",
       "      <td>3558.537278</td>\n",
       "    </tr>\n",
       "    <tr>\n",
       "      <th>4</th>\n",
       "      <td>6</td>\n",
       "      <td>4080.143515</td>\n",
       "    </tr>\n",
       "    <tr>\n",
       "      <th>...</th>\n",
       "      <td>...</td>\n",
       "      <td>...</td>\n",
       "    </tr>\n",
       "    <tr>\n",
       "      <th>186</th>\n",
       "      <td>188</td>\n",
       "      <td>1048.473283</td>\n",
       "    </tr>\n",
       "    <tr>\n",
       "      <th>187</th>\n",
       "      <td>189</td>\n",
       "      <td>912.108113</td>\n",
       "    </tr>\n",
       "    <tr>\n",
       "      <th>188</th>\n",
       "      <td>190</td>\n",
       "      <td>882.355698</td>\n",
       "    </tr>\n",
       "    <tr>\n",
       "      <th>189</th>\n",
       "      <td>191</td>\n",
       "      <td>471.694016</td>\n",
       "    </tr>\n",
       "    <tr>\n",
       "      <th>190</th>\n",
       "      <td>192</td>\n",
       "      <td>0.000000</td>\n",
       "    </tr>\n",
       "  </tbody>\n",
       "</table>\n",
       "<p>191 rows × 2 columns</p>\n",
       "</div>"
      ],
      "text/plain": [
       "     offset          std\n",
       "0         2  2449.408587\n",
       "1         3  3028.842285\n",
       "2         4  3187.285203\n",
       "3         5  3558.537278\n",
       "4         6  4080.143515\n",
       "..      ...          ...\n",
       "186     188  1048.473283\n",
       "187     189   912.108113\n",
       "188     190   882.355698\n",
       "189     191   471.694016\n",
       "190     192     0.000000\n",
       "\n",
       "[191 rows x 2 columns]"
      ]
     },
     "execution_count": 8,
     "metadata": {},
     "output_type": "execute_result"
    }
   ],
   "source": [
    "result_data=[]\n",
    "for i in range(2,500):\n",
    "    std = get_std_with_different_offset(df,'A','B','hilbert',i,i)\n",
    "    result_data.append([i,std])\n",
    "    if std==0:\n",
    "        print('Found the offset that reject null hypothesis: '+str(i))\n",
    "        break\n",
    "result_df_hos=pd.DataFrame(result_data,columns=['offset','std'])\n",
    "result_df_hos"
   ]
  },
  {
   "attachments": {},
   "cell_type": "markdown",
   "metadata": {},
   "source": [
    "### Asymmetric"
   ]
  },
  {
   "cell_type": "code",
   "execution_count": 37,
   "metadata": {},
   "outputs": [
    {
     "name": "stdout",
     "output_type": "stream",
     "text": [
      "Found the offset that reject null hypothesis: 384\n"
     ]
    },
    {
     "data": {
      "text/html": [
       "<div>\n",
       "<style scoped>\n",
       "    .dataframe tbody tr th:only-of-type {\n",
       "        vertical-align: middle;\n",
       "    }\n",
       "\n",
       "    .dataframe tbody tr th {\n",
       "        vertical-align: top;\n",
       "    }\n",
       "\n",
       "    .dataframe thead th {\n",
       "        text-align: right;\n",
       "    }\n",
       "</style>\n",
       "<table border=\"1\" class=\"dataframe\">\n",
       "  <thead>\n",
       "    <tr style=\"text-align: right;\">\n",
       "      <th></th>\n",
       "      <th>offset</th>\n",
       "      <th>std</th>\n",
       "    </tr>\n",
       "  </thead>\n",
       "  <tbody>\n",
       "    <tr>\n",
       "      <th>0</th>\n",
       "      <td>2</td>\n",
       "      <td>2322.183595</td>\n",
       "    </tr>\n",
       "    <tr>\n",
       "      <th>1</th>\n",
       "      <td>3</td>\n",
       "      <td>2574.782099</td>\n",
       "    </tr>\n",
       "    <tr>\n",
       "      <th>2</th>\n",
       "      <td>4</td>\n",
       "      <td>3173.163904</td>\n",
       "    </tr>\n",
       "    <tr>\n",
       "      <th>3</th>\n",
       "      <td>5</td>\n",
       "      <td>3331.827256</td>\n",
       "    </tr>\n",
       "    <tr>\n",
       "      <th>4</th>\n",
       "      <td>6</td>\n",
       "      <td>3498.514132</td>\n",
       "    </tr>\n",
       "    <tr>\n",
       "      <th>...</th>\n",
       "      <td>...</td>\n",
       "      <td>...</td>\n",
       "    </tr>\n",
       "    <tr>\n",
       "      <th>378</th>\n",
       "      <td>380</td>\n",
       "      <td>1716.922502</td>\n",
       "    </tr>\n",
       "    <tr>\n",
       "      <th>379</th>\n",
       "      <td>381</td>\n",
       "      <td>1653.841427</td>\n",
       "    </tr>\n",
       "    <tr>\n",
       "      <th>380</th>\n",
       "      <td>382</td>\n",
       "      <td>1570.462435</td>\n",
       "    </tr>\n",
       "    <tr>\n",
       "      <th>381</th>\n",
       "      <td>383</td>\n",
       "      <td>1489.844524</td>\n",
       "    </tr>\n",
       "    <tr>\n",
       "      <th>382</th>\n",
       "      <td>384</td>\n",
       "      <td>0.000000</td>\n",
       "    </tr>\n",
       "  </tbody>\n",
       "</table>\n",
       "<p>383 rows × 2 columns</p>\n",
       "</div>"
      ],
      "text/plain": [
       "     offset          std\n",
       "0         2  2322.183595\n",
       "1         3  2574.782099\n",
       "2         4  3173.163904\n",
       "3         5  3331.827256\n",
       "4         6  3498.514132\n",
       "..      ...          ...\n",
       "378     380  1716.922502\n",
       "379     381  1653.841427\n",
       "380     382  1570.462435\n",
       "381     383  1489.844524\n",
       "382     384     0.000000\n",
       "\n",
       "[383 rows x 2 columns]"
      ]
     },
     "execution_count": 37,
     "metadata": {},
     "output_type": "execute_result"
    }
   ],
   "source": [
    "result_data=[]\n",
    "for i in range(2,500):\n",
    "    std = get_std_with_different_offset(df,'A','B','hilbert',0,i)\n",
    "    # print('offset: '+str(i)+', std is: '+str(std) )\n",
    "    result_data.append([i,std])\n",
    "    if std==0:\n",
    "        print('Found the offset that reject null hypothesis: '+str(i))\n",
    "        break\n",
    "result_df_hoa=pd.DataFrame(result_data,columns=['offset','std'])\n",
    "result_df_hoa"
   ]
  },
  {
   "attachments": {},
   "cell_type": "markdown",
   "metadata": {},
   "source": [
    "# Find the pattern\n",
    "with different max value of the dataset, find the respective offset for both hilbert and morton curve."
   ]
  },
  {
   "cell_type": "code",
   "execution_count": 13,
   "metadata": {},
   "outputs": [],
   "source": [
    "def find_offset_and_max_value_relation(data_max_value,search_max_value):\n",
    "    test_df = pd.DataFrame(np.random.randint(0,data_max_value,size=(25, 2)), columns=list('AB'))\n",
    "    max_value=test_df.max().max()\n",
    "    relation_result_mo=[]\n",
    "    relation_result_mm=[]\n",
    "    relation_result_ho=[]\n",
    "\n",
    "    for i in range(1,search_max_value):\n",
    "        std_m = get_std_with_different_offset(test_df,'A','B','morton',i,i)\n",
    "        if std_m==0:\n",
    "            relation_result_mo.append([data_max_value,max_value,i,'morton'])\n",
    "        std_h = get_std_with_different_offset(test_df,'A','B','hilbert',i,i)\n",
    "        if std_h==0:\n",
    "            relation_result_ho.append([data_max_value,max_value,i,'hilbert'])\n",
    "        std_mm = get_std_with_different_multiplier(test_df,'A','B','morton',i,i)\n",
    "        if std_mm==0:\n",
    "            relation_result_mm.append([data_max_value,max_value,i,'morton'])\n",
    "    return pd.DataFrame(relation_result_mo,columns=['input_max_value','df_max_value','offset','alogrithm']),pd.DataFrame(relation_result_ho,columns=['input_max_value','df_max_value','offset','alogrithm']),pd.DataFrame(relation_result_mm,columns=['input_max_value','df_max_value','offset','alogrithm'])\n"
   ]
  },
  {
   "cell_type": "code",
   "execution_count": 14,
   "metadata": {},
   "outputs": [
    {
     "ename": "KeyboardInterrupt",
     "evalue": "",
     "output_type": "error",
     "traceback": [
      "\u001b[0;31m---------------------------------------------------------------------------\u001b[0m",
      "\u001b[0;31mKeyboardInterrupt\u001b[0m                         Traceback (most recent call last)",
      "Cell \u001b[0;32mIn[14], line 5\u001b[0m\n\u001b[1;32m      3\u001b[0m mm_result\u001b[39m=\u001b[39mpd\u001b[39m.\u001b[39mDataFrame()\n\u001b[1;32m      4\u001b[0m \u001b[39mfor\u001b[39;00m i \u001b[39min\u001b[39;00m \u001b[39mrange\u001b[39m(\u001b[39m2\u001b[39m,\u001b[39m10\u001b[39m):\n\u001b[0;32m----> 5\u001b[0m     mo,ho,mm \u001b[39m=\u001b[39m find_offset_and_max_value_relation(i,\u001b[39m1000\u001b[39;49m)\n\u001b[1;32m      6\u001b[0m     mo_result \u001b[39m=\u001b[39m pd\u001b[39m.\u001b[39mconcat([mo_result,mo],axis\u001b[39m=\u001b[39m\u001b[39m1\u001b[39m)\n\u001b[1;32m      7\u001b[0m     ho_result \u001b[39m=\u001b[39m pd\u001b[39m.\u001b[39mconcat([ho_result,ho],axis\u001b[39m=\u001b[39m\u001b[39m1\u001b[39m)\n",
      "Cell \u001b[0;32mIn[13], line 12\u001b[0m, in \u001b[0;36mfind_offset_and_max_value_relation\u001b[0;34m(data_max_value, search_max_value)\u001b[0m\n\u001b[1;32m     10\u001b[0m \u001b[39mif\u001b[39;00m std_m\u001b[39m==\u001b[39m\u001b[39m0\u001b[39m:\n\u001b[1;32m     11\u001b[0m     relation_result_mo\u001b[39m.\u001b[39mappend([data_max_value,max_value,i,\u001b[39m'\u001b[39m\u001b[39mmorton\u001b[39m\u001b[39m'\u001b[39m])\n\u001b[0;32m---> 12\u001b[0m std_h \u001b[39m=\u001b[39m get_std_with_different_offset(test_df,\u001b[39m'\u001b[39;49m\u001b[39mA\u001b[39;49m\u001b[39m'\u001b[39;49m,\u001b[39m'\u001b[39;49m\u001b[39mB\u001b[39;49m\u001b[39m'\u001b[39;49m,\u001b[39m'\u001b[39;49m\u001b[39mhilbert\u001b[39;49m\u001b[39m'\u001b[39;49m,i,i)\n\u001b[1;32m     13\u001b[0m \u001b[39mif\u001b[39;00m std_h\u001b[39m==\u001b[39m\u001b[39m0\u001b[39m:\n\u001b[1;32m     14\u001b[0m     relation_result_ho\u001b[39m.\u001b[39mappend([data_max_value,max_value,i,\u001b[39m'\u001b[39m\u001b[39mhilbert\u001b[39m\u001b[39m'\u001b[39m])\n",
      "Cell \u001b[0;32mIn[8], line 13\u001b[0m, in \u001b[0;36mget_std_with_different_offset\u001b[0;34m(data, key1, key2, algorithm, offset1, offset2)\u001b[0m\n\u001b[1;32m     11\u001b[0m \u001b[39melif\u001b[39;00m algorithm\u001b[39m==\u001b[39m\u001b[39m'\u001b[39m\u001b[39mhilbert\u001b[39m\u001b[39m'\u001b[39m:\n\u001b[1;32m     12\u001b[0m     data\u001b[39m=\u001b[39mset_value_Hcurve(data,key1,key2,\u001b[39m'\u001b[39m\u001b[39mhilbert_origin\u001b[39m\u001b[39m'\u001b[39m)\n\u001b[0;32m---> 13\u001b[0m     data\u001b[39m=\u001b[39mset_value_Hcurve(data,key1_offset,key2_offset,\u001b[39m'\u001b[39;49m\u001b[39mhilbert_offset\u001b[39;49m\u001b[39m'\u001b[39;49m)\n\u001b[1;32m     14\u001b[0m     data[\u001b[39m'\u001b[39m\u001b[39moffset_delta\u001b[39m\u001b[39m'\u001b[39m]\u001b[39m=\u001b[39mdata[\u001b[39m'\u001b[39m\u001b[39mhilbert_offset\u001b[39m\u001b[39m'\u001b[39m]\u001b[39m-\u001b[39mdata[\u001b[39m'\u001b[39m\u001b[39mhilbert_origin\u001b[39m\u001b[39m'\u001b[39m]\n\u001b[1;32m     15\u001b[0m     \u001b[39mreturn\u001b[39;00m data[\u001b[39m'\u001b[39m\u001b[39moffset_delta\u001b[39m\u001b[39m'\u001b[39m]\u001b[39m.\u001b[39mstd()\n",
      "Cell \u001b[0;32mIn[7], line 4\u001b[0m, in \u001b[0;36mset_value_Hcurve\u001b[0;34m(data, key1, key2, key3)\u001b[0m\n\u001b[1;32m      2\u001b[0m \u001b[39mdef\u001b[39;00m \u001b[39mset_value_Hcurve\u001b[39m(data,key1,key2,key3):\n\u001b[1;32m      3\u001b[0m     points \u001b[39m=\u001b[39m data[[key1,key2]]\u001b[39m.\u001b[39mto_numpy()\n\u001b[0;32m----> 4\u001b[0m     distances \u001b[39m=\u001b[39m hilbert_curve\u001b[39m.\u001b[39;49mdistances_from_points(points)\n\u001b[1;32m      5\u001b[0m     data[key3] \u001b[39m=\u001b[39m pd\u001b[39m.\u001b[39mDataFrame(distances )\n\u001b[1;32m      6\u001b[0m     \u001b[39mreturn\u001b[39;00m data\n",
      "File \u001b[0;32m~/micromamba/envs/sfc/lib/python3.9/site-packages/hilbertcurve/hilbertcurve.py:289\u001b[0m, in \u001b[0;36mHilbertCurve.distances_from_points\u001b[0;34m(self, points, match_type)\u001b[0m\n\u001b[1;32m    287\u001b[0m \u001b[39melse\u001b[39;00m:\n\u001b[1;32m    288\u001b[0m     \u001b[39mwith\u001b[39;00m Pool(\u001b[39mself\u001b[39m\u001b[39m.\u001b[39mn_procs) \u001b[39mas\u001b[39;00m p:\n\u001b[0;32m--> 289\u001b[0m         distances \u001b[39m=\u001b[39m p\u001b[39m.\u001b[39;49mmap(\u001b[39mself\u001b[39;49m\u001b[39m.\u001b[39;49mdistance_from_point, points)\n\u001b[1;32m    291\u001b[0m \u001b[39mif\u001b[39;00m match_type:\n\u001b[1;32m    292\u001b[0m     \u001b[39mif\u001b[39;00m \u001b[39misinstance\u001b[39m(points, np\u001b[39m.\u001b[39mndarray):\n",
      "File \u001b[0;32m~/micromamba/envs/sfc/lib/python3.9/multiprocessing/pool.py:364\u001b[0m, in \u001b[0;36mPool.map\u001b[0;34m(self, func, iterable, chunksize)\u001b[0m\n\u001b[1;32m    359\u001b[0m \u001b[39mdef\u001b[39;00m \u001b[39mmap\u001b[39m(\u001b[39mself\u001b[39m, func, iterable, chunksize\u001b[39m=\u001b[39m\u001b[39mNone\u001b[39;00m):\n\u001b[1;32m    360\u001b[0m \u001b[39m    \u001b[39m\u001b[39m'''\u001b[39;00m\n\u001b[1;32m    361\u001b[0m \u001b[39m    Apply `func` to each element in `iterable`, collecting the results\u001b[39;00m\n\u001b[1;32m    362\u001b[0m \u001b[39m    in a list that is returned.\u001b[39;00m\n\u001b[1;32m    363\u001b[0m \u001b[39m    '''\u001b[39;00m\n\u001b[0;32m--> 364\u001b[0m     \u001b[39mreturn\u001b[39;00m \u001b[39mself\u001b[39;49m\u001b[39m.\u001b[39;49m_map_async(func, iterable, mapstar, chunksize)\u001b[39m.\u001b[39;49mget()\n",
      "File \u001b[0;32m~/micromamba/envs/sfc/lib/python3.9/multiprocessing/pool.py:765\u001b[0m, in \u001b[0;36mApplyResult.get\u001b[0;34m(self, timeout)\u001b[0m\n\u001b[1;32m    764\u001b[0m \u001b[39mdef\u001b[39;00m \u001b[39mget\u001b[39m(\u001b[39mself\u001b[39m, timeout\u001b[39m=\u001b[39m\u001b[39mNone\u001b[39;00m):\n\u001b[0;32m--> 765\u001b[0m     \u001b[39mself\u001b[39;49m\u001b[39m.\u001b[39;49mwait(timeout)\n\u001b[1;32m    766\u001b[0m     \u001b[39mif\u001b[39;00m \u001b[39mnot\u001b[39;00m \u001b[39mself\u001b[39m\u001b[39m.\u001b[39mready():\n\u001b[1;32m    767\u001b[0m         \u001b[39mraise\u001b[39;00m \u001b[39mTimeoutError\u001b[39;00m\n",
      "File \u001b[0;32m~/micromamba/envs/sfc/lib/python3.9/multiprocessing/pool.py:762\u001b[0m, in \u001b[0;36mApplyResult.wait\u001b[0;34m(self, timeout)\u001b[0m\n\u001b[1;32m    761\u001b[0m \u001b[39mdef\u001b[39;00m \u001b[39mwait\u001b[39m(\u001b[39mself\u001b[39m, timeout\u001b[39m=\u001b[39m\u001b[39mNone\u001b[39;00m):\n\u001b[0;32m--> 762\u001b[0m     \u001b[39mself\u001b[39;49m\u001b[39m.\u001b[39;49m_event\u001b[39m.\u001b[39;49mwait(timeout)\n",
      "File \u001b[0;32m~/micromamba/envs/sfc/lib/python3.9/threading.py:581\u001b[0m, in \u001b[0;36mEvent.wait\u001b[0;34m(self, timeout)\u001b[0m\n\u001b[1;32m    579\u001b[0m signaled \u001b[39m=\u001b[39m \u001b[39mself\u001b[39m\u001b[39m.\u001b[39m_flag\n\u001b[1;32m    580\u001b[0m \u001b[39mif\u001b[39;00m \u001b[39mnot\u001b[39;00m signaled:\n\u001b[0;32m--> 581\u001b[0m     signaled \u001b[39m=\u001b[39m \u001b[39mself\u001b[39;49m\u001b[39m.\u001b[39;49m_cond\u001b[39m.\u001b[39;49mwait(timeout)\n\u001b[1;32m    582\u001b[0m \u001b[39mreturn\u001b[39;00m signaled\n",
      "File \u001b[0;32m~/micromamba/envs/sfc/lib/python3.9/threading.py:312\u001b[0m, in \u001b[0;36mCondition.wait\u001b[0;34m(self, timeout)\u001b[0m\n\u001b[1;32m    310\u001b[0m \u001b[39mtry\u001b[39;00m:    \u001b[39m# restore state no matter what (e.g., KeyboardInterrupt)\u001b[39;00m\n\u001b[1;32m    311\u001b[0m     \u001b[39mif\u001b[39;00m timeout \u001b[39mis\u001b[39;00m \u001b[39mNone\u001b[39;00m:\n\u001b[0;32m--> 312\u001b[0m         waiter\u001b[39m.\u001b[39;49macquire()\n\u001b[1;32m    313\u001b[0m         gotit \u001b[39m=\u001b[39m \u001b[39mTrue\u001b[39;00m\n\u001b[1;32m    314\u001b[0m     \u001b[39melse\u001b[39;00m:\n",
      "\u001b[0;31mKeyboardInterrupt\u001b[0m: "
     ]
    }
   ],
   "source": [
    "mo_result=pd.DataFrame()\n",
    "ho_result=pd.DataFrame()\n",
    "mm_result=pd.DataFrame()\n",
    "for i in range(2,10):\n",
    "    mo,ho,mm = find_offset_and_max_value_relation(i,1000)\n",
    "    mo_result = pd.concat([mo_result,mo],axis=1)\n",
    "    ho_result = pd.concat([ho_result,ho],axis=1)\n",
    "    mm_result = pd.concat([mm_result,mm],axis=1)\n",
    "print(mo_result)\n",
    "print(mm_result)\n",
    "print(ho_result)\n"
   ]
  },
  {
   "attachments": {},
   "cell_type": "markdown",
   "metadata": {},
   "source": [
    "# Multiplier Experiment"
   ]
  },
  {
   "attachments": {},
   "cell_type": "markdown",
   "metadata": {},
   "source": [
    "H0: There is no multiplier value that could move the CSP consistently \n",
    "\n",
    "HA: There is one multiplier value that could move the CSP consistently"
   ]
  },
  {
   "attachments": {},
   "cell_type": "markdown",
   "metadata": {},
   "source": [
    "## Morton Multiplier"
   ]
  },
  {
   "attachments": {},
   "cell_type": "markdown",
   "metadata": {},
   "source": [
    "### Symmetric"
   ]
  },
  {
   "cell_type": "code",
   "execution_count": 38,
   "metadata": {},
   "outputs": [
    {
     "name": "stdout",
     "output_type": "stream",
     "text": [
      "Found the offset that reject null hypothesis: 2\n"
     ]
    },
    {
     "data": {
      "text/html": [
       "<div>\n",
       "<style scoped>\n",
       "    .dataframe tbody tr th:only-of-type {\n",
       "        vertical-align: middle;\n",
       "    }\n",
       "\n",
       "    .dataframe tbody tr th {\n",
       "        vertical-align: top;\n",
       "    }\n",
       "\n",
       "    .dataframe thead th {\n",
       "        text-align: right;\n",
       "    }\n",
       "</style>\n",
       "<table border=\"1\" class=\"dataframe\">\n",
       "  <thead>\n",
       "    <tr style=\"text-align: right;\">\n",
       "      <th></th>\n",
       "      <th>offset</th>\n",
       "      <th>std</th>\n",
       "    </tr>\n",
       "  </thead>\n",
       "  <tbody>\n",
       "    <tr>\n",
       "      <th>0</th>\n",
       "      <td>2</td>\n",
       "      <td>0.0</td>\n",
       "    </tr>\n",
       "  </tbody>\n",
       "</table>\n",
       "</div>"
      ],
      "text/plain": [
       "   offset  std\n",
       "0       2  0.0"
      ]
     },
     "execution_count": 38,
     "metadata": {},
     "output_type": "execute_result"
    }
   ],
   "source": [
    "result_data=[]\n",
    "for i in range(2,200):\n",
    "    std = get_std_with_different_multiplier(df,'A','B','morton',i,i)\n",
    "    # print('offset: '+str(i)+', std is: '+str(std) )\n",
    "    result_data.append([i,std])\n",
    "    if std==0:\n",
    "        print('Found the offset that reject null hypothesis: '+str(i))\n",
    "        break\n",
    "result_df_mms=pd.DataFrame(result_data,columns=['offset','std'])\n",
    "result_df_mms"
   ]
  },
  {
   "attachments": {},
   "cell_type": "markdown",
   "metadata": {},
   "source": [
    "### Asymmetric"
   ]
  },
  {
   "cell_type": "code",
   "execution_count": 40,
   "metadata": {},
   "outputs": [
    {
     "data": {
      "text/html": [
       "<div>\n",
       "<style scoped>\n",
       "    .dataframe tbody tr th:only-of-type {\n",
       "        vertical-align: middle;\n",
       "    }\n",
       "\n",
       "    .dataframe tbody tr th {\n",
       "        vertical-align: top;\n",
       "    }\n",
       "\n",
       "    .dataframe thead th {\n",
       "        text-align: right;\n",
       "    }\n",
       "</style>\n",
       "<table border=\"1\" class=\"dataframe\">\n",
       "  <thead>\n",
       "    <tr style=\"text-align: right;\">\n",
       "      <th></th>\n",
       "      <th>offset</th>\n",
       "      <th>std</th>\n",
       "    </tr>\n",
       "  </thead>\n",
       "  <tbody>\n",
       "    <tr>\n",
       "      <th>0</th>\n",
       "      <td>2</td>\n",
       "      <td>0.915751</td>\n",
       "    </tr>\n",
       "    <tr>\n",
       "      <th>1</th>\n",
       "      <td>3</td>\n",
       "      <td>3.809610</td>\n",
       "    </tr>\n",
       "    <tr>\n",
       "      <th>2</th>\n",
       "      <td>4</td>\n",
       "      <td>4.578756</td>\n",
       "    </tr>\n",
       "    <tr>\n",
       "      <th>3</th>\n",
       "      <td>5</td>\n",
       "      <td>12.520817</td>\n",
       "    </tr>\n",
       "    <tr>\n",
       "      <th>4</th>\n",
       "      <td>6</td>\n",
       "      <td>15.902999</td>\n",
       "    </tr>\n",
       "    <tr>\n",
       "      <th>...</th>\n",
       "      <td>...</td>\n",
       "      <td>...</td>\n",
       "    </tr>\n",
       "    <tr>\n",
       "      <th>493</th>\n",
       "      <td>495</td>\n",
       "      <td>80018.613981</td>\n",
       "    </tr>\n",
       "    <tr>\n",
       "      <th>494</th>\n",
       "      <td>496</td>\n",
       "      <td>80083.046895</td>\n",
       "    </tr>\n",
       "    <tr>\n",
       "      <th>495</th>\n",
       "      <td>497</td>\n",
       "      <td>79614.930600</td>\n",
       "    </tr>\n",
       "    <tr>\n",
       "      <th>496</th>\n",
       "      <td>498</td>\n",
       "      <td>79633.187297</td>\n",
       "    </tr>\n",
       "    <tr>\n",
       "      <th>497</th>\n",
       "      <td>499</td>\n",
       "      <td>79664.627653</td>\n",
       "    </tr>\n",
       "  </tbody>\n",
       "</table>\n",
       "<p>498 rows × 2 columns</p>\n",
       "</div>"
      ],
      "text/plain": [
       "     offset           std\n",
       "0         2      0.915751\n",
       "1         3      3.809610\n",
       "2         4      4.578756\n",
       "3         5     12.520817\n",
       "4         6     15.902999\n",
       "..      ...           ...\n",
       "493     495  80018.613981\n",
       "494     496  80083.046895\n",
       "495     497  79614.930600\n",
       "496     498  79633.187297\n",
       "497     499  79664.627653\n",
       "\n",
       "[498 rows x 2 columns]"
      ]
     },
     "execution_count": 40,
     "metadata": {},
     "output_type": "execute_result"
    }
   ],
   "source": [
    "result_data=[]\n",
    "for i in range(2,500):\n",
    "    std = get_std_with_different_multiplier(df,'A','B','morton',1,i)\n",
    "    # print('offset: '+str(i)+', std is: '+str(std) )\n",
    "    result_data.append([i,std])\n",
    "    if std==0:\n",
    "        print('Found the offset that reject null hypothesis: '+str(i))\n",
    "        break\n",
    "result_df_mma=pd.DataFrame(result_data,columns=['offset','std'])\n",
    "result_df_mma"
   ]
  },
  {
   "cell_type": "code",
   "execution_count": 25,
   "metadata": {},
   "outputs": [
    {
     "data": {
      "text/plain": [
       "<Axes: >"
      ]
     },
     "execution_count": 25,
     "metadata": {},
     "output_type": "execute_result"
    },
    {
     "data": {
      "image/png": "[encoded data removed]",
      "text/plain": [
       "<Figure size 640x480 with 1 Axes>"
      ]
     },
     "metadata": {},
     "output_type": "display_data"
    }
   ],
   "source": [
    "result_df_mma.plot()"
   ]
  },
  {
   "attachments": {},
   "cell_type": "markdown",
   "metadata": {},
   "source": [
    "## Hilbert Multiplier"
   ]
  },
  {
   "attachments": {},
   "cell_type": "markdown",
   "metadata": {},
   "source": [
    "### Symmetric"
   ]
  },
  {
   "cell_type": "code",
   "execution_count": 41,
   "metadata": {},
   "outputs": [
    {
     "ename": "KeyboardInterrupt",
     "evalue": "",
     "output_type": "error",
     "traceback": [
      "\u001b[0;31m---------------------------------------------------------------------------\u001b[0m",
      "\u001b[0;31mKeyboardInterrupt\u001b[0m                         Traceback (most recent call last)",
      "Cell \u001b[0;32mIn[41], line 3\u001b[0m\n\u001b[1;32m      1\u001b[0m result_data\u001b[39m=\u001b[39m[]\n\u001b[1;32m      2\u001b[0m \u001b[39mfor\u001b[39;00m i \u001b[39min\u001b[39;00m \u001b[39mrange\u001b[39m(\u001b[39m2\u001b[39m,\u001b[39m1000\u001b[39m):\n\u001b[0;32m----> 3\u001b[0m     std \u001b[39m=\u001b[39m get_std_with_different_multiplier(df,\u001b[39m'\u001b[39;49m\u001b[39mA\u001b[39;49m\u001b[39m'\u001b[39;49m,\u001b[39m'\u001b[39;49m\u001b[39mB\u001b[39;49m\u001b[39m'\u001b[39;49m,\u001b[39m'\u001b[39;49m\u001b[39mhilbert\u001b[39;49m\u001b[39m'\u001b[39;49m,i,i)\n\u001b[1;32m      4\u001b[0m     \u001b[39m# print('offset: '+str(i)+', std is: '+str(std) )\u001b[39;00m\n\u001b[1;32m      5\u001b[0m     result_data\u001b[39m.\u001b[39mappend([i,std])\n",
      "Cell \u001b[0;32mIn[23], line 12\u001b[0m, in \u001b[0;36mget_std_with_different_multiplier\u001b[0;34m(data, key1, key2, algorithm, multiplier1, multiplier2)\u001b[0m\n\u001b[1;32m     10\u001b[0m     \u001b[39mreturn\u001b[39;00m data[\u001b[39m'\u001b[39m\u001b[39moffset_delta\u001b[39m\u001b[39m'\u001b[39m]\u001b[39m.\u001b[39mstd()\n\u001b[1;32m     11\u001b[0m \u001b[39melif\u001b[39;00m algorithm\u001b[39m==\u001b[39m\u001b[39m'\u001b[39m\u001b[39mhilbert\u001b[39m\u001b[39m'\u001b[39m:\n\u001b[0;32m---> 12\u001b[0m     data\u001b[39m=\u001b[39mset_value_Hcurve(data,key1,key2,\u001b[39m'\u001b[39;49m\u001b[39mhilbert_origin\u001b[39;49m\u001b[39m'\u001b[39;49m)\n\u001b[1;32m     13\u001b[0m     data\u001b[39m=\u001b[39mset_value_Hcurve(data,key1_offset,key2_offset,\u001b[39m'\u001b[39m\u001b[39mhilbert_multiplier\u001b[39m\u001b[39m'\u001b[39m)\n\u001b[1;32m     14\u001b[0m     data[\u001b[39m'\u001b[39m\u001b[39moffset_delta\u001b[39m\u001b[39m'\u001b[39m]\u001b[39m=\u001b[39mdata[\u001b[39m'\u001b[39m\u001b[39mhilbert_multiplier\u001b[39m\u001b[39m'\u001b[39m]\u001b[39m/\u001b[39mdata[\u001b[39m'\u001b[39m\u001b[39mhilbert_origin\u001b[39m\u001b[39m'\u001b[39m]\n",
      "Cell \u001b[0;32mIn[7], line 4\u001b[0m, in \u001b[0;36mset_value_Hcurve\u001b[0;34m(data, key1, key2, key3)\u001b[0m\n\u001b[1;32m      2\u001b[0m \u001b[39mdef\u001b[39;00m \u001b[39mset_value_Hcurve\u001b[39m(data,key1,key2,key3):\n\u001b[1;32m      3\u001b[0m     points \u001b[39m=\u001b[39m data[[key1,key2]]\u001b[39m.\u001b[39mto_numpy()\n\u001b[0;32m----> 4\u001b[0m     distances \u001b[39m=\u001b[39m hilbert_curve\u001b[39m.\u001b[39;49mdistances_from_points(points)\n\u001b[1;32m      5\u001b[0m     data[key3] \u001b[39m=\u001b[39m pd\u001b[39m.\u001b[39mDataFrame(distances )\n\u001b[1;32m      6\u001b[0m     \u001b[39mreturn\u001b[39;00m data\n",
      "File \u001b[0;32m~/micromamba/envs/sfc/lib/python3.9/site-packages/hilbertcurve/hilbertcurve.py:288\u001b[0m, in \u001b[0;36mHilbertCurve.distances_from_points\u001b[0;34m(self, points, match_type)\u001b[0m\n\u001b[1;32m    286\u001b[0m         distances\u001b[39m.\u001b[39mappend(distance)\n\u001b[1;32m    287\u001b[0m \u001b[39melse\u001b[39;00m:\n\u001b[0;32m--> 288\u001b[0m     \u001b[39mwith\u001b[39;00m Pool(\u001b[39mself\u001b[39;49m\u001b[39m.\u001b[39;49mn_procs) \u001b[39mas\u001b[39;00m p:\n\u001b[1;32m    289\u001b[0m         distances \u001b[39m=\u001b[39m p\u001b[39m.\u001b[39mmap(\u001b[39mself\u001b[39m\u001b[39m.\u001b[39mdistance_from_point, points)\n\u001b[1;32m    291\u001b[0m \u001b[39mif\u001b[39;00m match_type:\n",
      "File \u001b[0;32m~/micromamba/envs/sfc/lib/python3.9/multiprocessing/context.py:119\u001b[0m, in \u001b[0;36mBaseContext.Pool\u001b[0;34m(self, processes, initializer, initargs, maxtasksperchild)\u001b[0m\n\u001b[1;32m    117\u001b[0m \u001b[39m\u001b[39m\u001b[39m'''Returns a process pool object'''\u001b[39;00m\n\u001b[1;32m    118\u001b[0m \u001b[39mfrom\u001b[39;00m \u001b[39m.\u001b[39;00m\u001b[39mpool\u001b[39;00m \u001b[39mimport\u001b[39;00m Pool\n\u001b[0;32m--> 119\u001b[0m \u001b[39mreturn\u001b[39;00m Pool(processes, initializer, initargs, maxtasksperchild,\n\u001b[1;32m    120\u001b[0m             context\u001b[39m=\u001b[39;49m\u001b[39mself\u001b[39;49m\u001b[39m.\u001b[39;49mget_context())\n",
      "File \u001b[0;32m~/micromamba/envs/sfc/lib/python3.9/multiprocessing/pool.py:212\u001b[0m, in \u001b[0;36mPool.__init__\u001b[0;34m(self, processes, initializer, initargs, maxtasksperchild, context)\u001b[0m\n\u001b[1;32m    210\u001b[0m \u001b[39mself\u001b[39m\u001b[39m.\u001b[39m_processes \u001b[39m=\u001b[39m processes\n\u001b[1;32m    211\u001b[0m \u001b[39mtry\u001b[39;00m:\n\u001b[0;32m--> 212\u001b[0m     \u001b[39mself\u001b[39;49m\u001b[39m.\u001b[39;49m_repopulate_pool()\n\u001b[1;32m    213\u001b[0m \u001b[39mexcept\u001b[39;00m \u001b[39mException\u001b[39;00m:\n\u001b[1;32m    214\u001b[0m     \u001b[39mfor\u001b[39;00m p \u001b[39min\u001b[39;00m \u001b[39mself\u001b[39m\u001b[39m.\u001b[39m_pool:\n",
      "File \u001b[0;32m~/micromamba/envs/sfc/lib/python3.9/multiprocessing/pool.py:303\u001b[0m, in \u001b[0;36mPool._repopulate_pool\u001b[0;34m(self)\u001b[0m\n\u001b[1;32m    302\u001b[0m \u001b[39mdef\u001b[39;00m \u001b[39m_repopulate_pool\u001b[39m(\u001b[39mself\u001b[39m):\n\u001b[0;32m--> 303\u001b[0m     \u001b[39mreturn\u001b[39;00m \u001b[39mself\u001b[39;49m\u001b[39m.\u001b[39;49m_repopulate_pool_static(\u001b[39mself\u001b[39;49m\u001b[39m.\u001b[39;49m_ctx, \u001b[39mself\u001b[39;49m\u001b[39m.\u001b[39;49mProcess,\n\u001b[1;32m    304\u001b[0m                                         \u001b[39mself\u001b[39;49m\u001b[39m.\u001b[39;49m_processes,\n\u001b[1;32m    305\u001b[0m                                         \u001b[39mself\u001b[39;49m\u001b[39m.\u001b[39;49m_pool, \u001b[39mself\u001b[39;49m\u001b[39m.\u001b[39;49m_inqueue,\n\u001b[1;32m    306\u001b[0m                                         \u001b[39mself\u001b[39;49m\u001b[39m.\u001b[39;49m_outqueue, \u001b[39mself\u001b[39;49m\u001b[39m.\u001b[39;49m_initializer,\n\u001b[1;32m    307\u001b[0m                                         \u001b[39mself\u001b[39;49m\u001b[39m.\u001b[39;49m_initargs,\n\u001b[1;32m    308\u001b[0m                                         \u001b[39mself\u001b[39;49m\u001b[39m.\u001b[39;49m_maxtasksperchild,\n\u001b[1;32m    309\u001b[0m                                         \u001b[39mself\u001b[39;49m\u001b[39m.\u001b[39;49m_wrap_exception)\n",
      "File \u001b[0;32m~/micromamba/envs/sfc/lib/python3.9/multiprocessing/pool.py:326\u001b[0m, in \u001b[0;36mPool._repopulate_pool_static\u001b[0;34m(ctx, Process, processes, pool, inqueue, outqueue, initializer, initargs, maxtasksperchild, wrap_exception)\u001b[0m\n\u001b[1;32m    324\u001b[0m w\u001b[39m.\u001b[39mname \u001b[39m=\u001b[39m w\u001b[39m.\u001b[39mname\u001b[39m.\u001b[39mreplace(\u001b[39m'\u001b[39m\u001b[39mProcess\u001b[39m\u001b[39m'\u001b[39m, \u001b[39m'\u001b[39m\u001b[39mPoolWorker\u001b[39m\u001b[39m'\u001b[39m)\n\u001b[1;32m    325\u001b[0m w\u001b[39m.\u001b[39mdaemon \u001b[39m=\u001b[39m \u001b[39mTrue\u001b[39;00m\n\u001b[0;32m--> 326\u001b[0m w\u001b[39m.\u001b[39;49mstart()\n\u001b[1;32m    327\u001b[0m pool\u001b[39m.\u001b[39mappend(w)\n\u001b[1;32m    328\u001b[0m util\u001b[39m.\u001b[39mdebug(\u001b[39m'\u001b[39m\u001b[39madded worker\u001b[39m\u001b[39m'\u001b[39m)\n",
      "File \u001b[0;32m~/micromamba/envs/sfc/lib/python3.9/multiprocessing/process.py:121\u001b[0m, in \u001b[0;36mBaseProcess.start\u001b[0;34m(self)\u001b[0m\n\u001b[1;32m    118\u001b[0m \u001b[39massert\u001b[39;00m \u001b[39mnot\u001b[39;00m _current_process\u001b[39m.\u001b[39m_config\u001b[39m.\u001b[39mget(\u001b[39m'\u001b[39m\u001b[39mdaemon\u001b[39m\u001b[39m'\u001b[39m), \\\n\u001b[1;32m    119\u001b[0m        \u001b[39m'\u001b[39m\u001b[39mdaemonic processes are not allowed to have children\u001b[39m\u001b[39m'\u001b[39m\n\u001b[1;32m    120\u001b[0m _cleanup()\n\u001b[0;32m--> 121\u001b[0m \u001b[39mself\u001b[39m\u001b[39m.\u001b[39m_popen \u001b[39m=\u001b[39m \u001b[39mself\u001b[39;49m\u001b[39m.\u001b[39;49m_Popen(\u001b[39mself\u001b[39;49m)\n\u001b[1;32m    122\u001b[0m \u001b[39mself\u001b[39m\u001b[39m.\u001b[39m_sentinel \u001b[39m=\u001b[39m \u001b[39mself\u001b[39m\u001b[39m.\u001b[39m_popen\u001b[39m.\u001b[39msentinel\n\u001b[1;32m    123\u001b[0m \u001b[39m# Avoid a refcycle if the target function holds an indirect\u001b[39;00m\n\u001b[1;32m    124\u001b[0m \u001b[39m# reference to the process object (see bpo-30775)\u001b[39;00m\n",
      "File \u001b[0;32m~/micromamba/envs/sfc/lib/python3.9/multiprocessing/context.py:284\u001b[0m, in \u001b[0;36mSpawnProcess._Popen\u001b[0;34m(process_obj)\u001b[0m\n\u001b[1;32m    281\u001b[0m \u001b[39m@staticmethod\u001b[39m\n\u001b[1;32m    282\u001b[0m \u001b[39mdef\u001b[39;00m \u001b[39m_Popen\u001b[39m(process_obj):\n\u001b[1;32m    283\u001b[0m     \u001b[39mfrom\u001b[39;00m \u001b[39m.\u001b[39;00m\u001b[39mpopen_spawn_posix\u001b[39;00m \u001b[39mimport\u001b[39;00m Popen\n\u001b[0;32m--> 284\u001b[0m     \u001b[39mreturn\u001b[39;00m Popen(process_obj)\n",
      "File \u001b[0;32m~/micromamba/envs/sfc/lib/python3.9/multiprocessing/popen_spawn_posix.py:32\u001b[0m, in \u001b[0;36mPopen.__init__\u001b[0;34m(self, process_obj)\u001b[0m\n\u001b[1;32m     30\u001b[0m \u001b[39mdef\u001b[39;00m \u001b[39m__init__\u001b[39m(\u001b[39mself\u001b[39m, process_obj):\n\u001b[1;32m     31\u001b[0m     \u001b[39mself\u001b[39m\u001b[39m.\u001b[39m_fds \u001b[39m=\u001b[39m []\n\u001b[0;32m---> 32\u001b[0m     \u001b[39msuper\u001b[39;49m()\u001b[39m.\u001b[39;49m\u001b[39m__init__\u001b[39;49m(process_obj)\n",
      "File \u001b[0;32m~/micromamba/envs/sfc/lib/python3.9/multiprocessing/popen_fork.py:19\u001b[0m, in \u001b[0;36mPopen.__init__\u001b[0;34m(self, process_obj)\u001b[0m\n\u001b[1;32m     17\u001b[0m \u001b[39mself\u001b[39m\u001b[39m.\u001b[39mreturncode \u001b[39m=\u001b[39m \u001b[39mNone\u001b[39;00m\n\u001b[1;32m     18\u001b[0m \u001b[39mself\u001b[39m\u001b[39m.\u001b[39mfinalizer \u001b[39m=\u001b[39m \u001b[39mNone\u001b[39;00m\n\u001b[0;32m---> 19\u001b[0m \u001b[39mself\u001b[39;49m\u001b[39m.\u001b[39;49m_launch(process_obj)\n",
      "File \u001b[0;32m~/micromamba/envs/sfc/lib/python3.9/multiprocessing/popen_spawn_posix.py:58\u001b[0m, in \u001b[0;36mPopen._launch\u001b[0;34m(self, process_obj)\u001b[0m\n\u001b[1;32m     55\u001b[0m cmd \u001b[39m=\u001b[39m spawn\u001b[39m.\u001b[39mget_command_line(tracker_fd\u001b[39m=\u001b[39mtracker_fd,\n\u001b[1;32m     56\u001b[0m                              pipe_handle\u001b[39m=\u001b[39mchild_r)\n\u001b[1;32m     57\u001b[0m \u001b[39mself\u001b[39m\u001b[39m.\u001b[39m_fds\u001b[39m.\u001b[39mextend([child_r, child_w])\n\u001b[0;32m---> 58\u001b[0m \u001b[39mself\u001b[39m\u001b[39m.\u001b[39mpid \u001b[39m=\u001b[39m util\u001b[39m.\u001b[39;49mspawnv_passfds(spawn\u001b[39m.\u001b[39;49mget_executable(),\n\u001b[1;32m     59\u001b[0m                                cmd, \u001b[39mself\u001b[39;49m\u001b[39m.\u001b[39;49m_fds)\n\u001b[1;32m     60\u001b[0m \u001b[39mself\u001b[39m\u001b[39m.\u001b[39msentinel \u001b[39m=\u001b[39m parent_r\n\u001b[1;32m     61\u001b[0m \u001b[39mwith\u001b[39;00m \u001b[39mopen\u001b[39m(parent_w, \u001b[39m'\u001b[39m\u001b[39mwb\u001b[39m\u001b[39m'\u001b[39m, closefd\u001b[39m=\u001b[39m\u001b[39mFalse\u001b[39;00m) \u001b[39mas\u001b[39;00m f:\n",
      "File \u001b[0;32m~/micromamba/envs/sfc/lib/python3.9/multiprocessing/util.py:452\u001b[0m, in \u001b[0;36mspawnv_passfds\u001b[0;34m(path, args, passfds)\u001b[0m\n\u001b[1;32m    450\u001b[0m errpipe_read, errpipe_write \u001b[39m=\u001b[39m os\u001b[39m.\u001b[39mpipe()\n\u001b[1;32m    451\u001b[0m \u001b[39mtry\u001b[39;00m:\n\u001b[0;32m--> 452\u001b[0m     \u001b[39mreturn\u001b[39;00m _posixsubprocess\u001b[39m.\u001b[39;49mfork_exec(\n\u001b[1;32m    453\u001b[0m         args, [os\u001b[39m.\u001b[39;49mfsencode(path)], \u001b[39mTrue\u001b[39;49;00m, passfds, \u001b[39mNone\u001b[39;49;00m, \u001b[39mNone\u001b[39;49;00m,\n\u001b[1;32m    454\u001b[0m         \u001b[39m-\u001b[39;49m\u001b[39m1\u001b[39;49m, \u001b[39m-\u001b[39;49m\u001b[39m1\u001b[39;49m, \u001b[39m-\u001b[39;49m\u001b[39m1\u001b[39;49m, \u001b[39m-\u001b[39;49m\u001b[39m1\u001b[39;49m, \u001b[39m-\u001b[39;49m\u001b[39m1\u001b[39;49m, \u001b[39m-\u001b[39;49m\u001b[39m1\u001b[39;49m, errpipe_read, errpipe_write,\n\u001b[1;32m    455\u001b[0m         \u001b[39mFalse\u001b[39;49;00m, \u001b[39mFalse\u001b[39;49;00m, \u001b[39mNone\u001b[39;49;00m, \u001b[39mNone\u001b[39;49;00m, \u001b[39mNone\u001b[39;49;00m, \u001b[39m-\u001b[39;49m\u001b[39m1\u001b[39;49m, \u001b[39mNone\u001b[39;49;00m)\n\u001b[1;32m    456\u001b[0m \u001b[39mfinally\u001b[39;00m:\n\u001b[1;32m    457\u001b[0m     os\u001b[39m.\u001b[39mclose(errpipe_read)\n",
      "\u001b[0;31mKeyboardInterrupt\u001b[0m: "
     ]
    }
   ],
   "source": [
    "result_data=[]\n",
    "for i in range(2,1000):\n",
    "    std = get_std_with_different_multiplier(df,'A','B','hilbert',i,i)\n",
    "    # print('offset: '+str(i)+', std is: '+str(std) )\n",
    "    result_data.append([i,std])\n",
    "    if std==0:\n",
    "        print('Found the offset that reject null hypothesis: '+str(i))\n",
    "        break\n",
    "result_df_hms=pd.DataFrame(result_data,columns=['offset','std'])\n",
    "result_df_hms"
   ]
  },
  {
   "attachments": {},
   "cell_type": "markdown",
   "metadata": {},
   "source": [
    "### Asymmetric"
   ]
  },
  {
   "cell_type": "code",
   "execution_count": 35,
   "metadata": {},
   "outputs": [
    {
     "data": {
      "text/html": [
       "<div>\n",
       "<style scoped>\n",
       "    .dataframe tbody tr th:only-of-type {\n",
       "        vertical-align: middle;\n",
       "    }\n",
       "\n",
       "    .dataframe tbody tr th {\n",
       "        vertical-align: top;\n",
       "    }\n",
       "\n",
       "    .dataframe thead th {\n",
       "        text-align: right;\n",
       "    }\n",
       "</style>\n",
       "<table border=\"1\" class=\"dataframe\">\n",
       "  <thead>\n",
       "    <tr style=\"text-align: right;\">\n",
       "      <th></th>\n",
       "      <th>offset</th>\n",
       "      <th>std</th>\n",
       "    </tr>\n",
       "  </thead>\n",
       "  <tbody>\n",
       "    <tr>\n",
       "      <th>0</th>\n",
       "      <td>2</td>\n",
       "      <td>3.726795</td>\n",
       "    </tr>\n",
       "    <tr>\n",
       "      <th>1</th>\n",
       "      <td>3</td>\n",
       "      <td>5.547382</td>\n",
       "    </tr>\n",
       "    <tr>\n",
       "      <th>2</th>\n",
       "      <td>4</td>\n",
       "      <td>6.663915</td>\n",
       "    </tr>\n",
       "    <tr>\n",
       "      <th>3</th>\n",
       "      <td>5</td>\n",
       "      <td>40.743337</td>\n",
       "    </tr>\n",
       "    <tr>\n",
       "      <th>4</th>\n",
       "      <td>6</td>\n",
       "      <td>54.502981</td>\n",
       "    </tr>\n",
       "    <tr>\n",
       "      <th>...</th>\n",
       "      <td>...</td>\n",
       "      <td>...</td>\n",
       "    </tr>\n",
       "    <tr>\n",
       "      <th>193</th>\n",
       "      <td>195</td>\n",
       "      <td>23934.141059</td>\n",
       "    </tr>\n",
       "    <tr>\n",
       "      <th>194</th>\n",
       "      <td>196</td>\n",
       "      <td>23802.984987</td>\n",
       "    </tr>\n",
       "    <tr>\n",
       "      <th>195</th>\n",
       "      <td>197</td>\n",
       "      <td>23806.207485</td>\n",
       "    </tr>\n",
       "    <tr>\n",
       "      <th>196</th>\n",
       "      <td>198</td>\n",
       "      <td>23810.343510</td>\n",
       "    </tr>\n",
       "    <tr>\n",
       "      <th>197</th>\n",
       "      <td>199</td>\n",
       "      <td>23811.622087</td>\n",
       "    </tr>\n",
       "  </tbody>\n",
       "</table>\n",
       "<p>198 rows × 2 columns</p>\n",
       "</div>"
      ],
      "text/plain": [
       "     offset           std\n",
       "0         2      3.726795\n",
       "1         3      5.547382\n",
       "2         4      6.663915\n",
       "3         5     40.743337\n",
       "4         6     54.502981\n",
       "..      ...           ...\n",
       "193     195  23934.141059\n",
       "194     196  23802.984987\n",
       "195     197  23806.207485\n",
       "196     198  23810.343510\n",
       "197     199  23811.622087\n",
       "\n",
       "[198 rows x 2 columns]"
      ]
     },
     "execution_count": 35,
     "metadata": {},
     "output_type": "execute_result"
    }
   ],
   "source": [
    "result_data=[]\n",
    "for i in range(2,1000):\n",
    "    std = get_std_with_different_multiplier(df,'A','B','hilbert',1,i)\n",
    "    # print('offset: '+str(i)+', std is: '+str(std) )\n",
    "    result_data.append([i,std])\n",
    "    if std==0:\n",
    "        print('Found the offset that reject null hypothesis: '+str(i))\n",
    "        break\n",
    "result_df_hma=pd.DataFrame(result_data,columns=['offset','std'])\n",
    "result_df_hma"
   ]
  }
 ],
 "metadata": {
  "kernelspec": {
   "display_name": "Python 3 (ipykernel)",
   "language": "python",
   "name": "python3"
  },
  "language_info": {
   "codemirror_mode": {
    "name": "ipython",
    "version": 3
   },
   "file_extension": ".py",
   "mimetype": "text/x-python",
   "name": "python",
   "nbconvert_exporter": "python",
   "pygments_lexer": "ipython3",
   "version": "3.9.16"
  },
  "orig_nbformat": 4
 },
 "nbformat": 4,
 "nbformat_minor": 2
}
